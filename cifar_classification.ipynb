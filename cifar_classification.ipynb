{
  "nbformat": 4,
  "nbformat_minor": 0,
  "metadata": {
    "accelerator": "GPU",
    "colab": {
      "name": "cifar_classification.ipynb",
      "provenance": [],
      "collapsed_sections": [],
      "toc_visible": true,
      "include_colab_link": true
    },
    "kernelspec": {
      "display_name": "Python 3",
      "language": "python",
      "name": "python3"
    },
    "language_info": {
      "codemirror_mode": {
        "name": "ipython",
        "version": 3
      },
      "file_extension": ".py",
      "mimetype": "text/x-python",
      "name": "python",
      "nbconvert_exporter": "python",
      "pygments_lexer": "ipython3",
      "version": "3.8.6"
    },
    "toc": {
      "base_numbering": 1,
      "nav_menu": {},
      "number_sections": false,
      "sideBar": true,
      "skip_h1_title": false,
      "title_cell": "Table of Contents",
      "title_sidebar": "Contents",
      "toc_cell": false,
      "toc_position": {},
      "toc_section_display": true,
      "toc_window_display": true
    },
    "varInspector": {
      "cols": {
        "lenName": 16,
        "lenType": 16,
        "lenVar": 40
      },
      "kernels_config": {
        "python": {
          "delete_cmd_postfix": "",
          "delete_cmd_prefix": "del ",
          "library": "var_list.py",
          "varRefreshCmd": "print(var_dic_list())"
        },
        "r": {
          "delete_cmd_postfix": ") ",
          "delete_cmd_prefix": "rm(",
          "library": "var_list.r",
          "varRefreshCmd": "cat(var_dic_list()) "
        }
      },
      "types_to_exclude": [
        "module",
        "function",
        "builtin_function_or_method",
        "instance",
        "_Feature"
      ],
      "window_display": false
    }
  },
  "cells": [
    {
      "cell_type": "markdown",
      "metadata": {
        "id": "view-in-github",
        "colab_type": "text"
      },
      "source": [
        "<a href=\"https://colab.research.google.com/github/NinLev/dotfiles/blob/master/cifar_classification.ipynb\" target=\"_parent\"><img src=\"https://colab.research.google.com/assets/colab-badge.svg\" alt=\"Open In Colab\"/></a>"
      ]
    },
    {
      "cell_type": "markdown",
      "metadata": {
        "collapsed": true,
        "id": "eEt4AJqKVj0v"
      },
      "source": [
        "# CIFAR Classification\n",
        "\n",
        "### Exercise objectives\n",
        "\n",
        "- Implement a CNN for a 10-class classification problem\n",
        "- Enhance the CNN performance with data augmentation techniques\n",
        "- Experiment the acceleration of GPU for image processing (Google Colab)\n",
        "\n",
        "<hr>\n",
        "<hr>\n",
        "\n",
        "You should now have a better feeling of how a CNN is working, and especially how the convolutions are affecting the image to detect specific features. Therefore, let's now play with a bit more complex images. \n",
        "\n",
        "The CIFAR-10 dataset is a dataset that contains images of 10 different classes \n",
        "\n",
        "<img src=\"https://people.minesparis.psl.eu/fabien.moutarde/ES_MachineLearning/mini-projets/cifar10_notebook_fichiers/cifar_10.png\">\n",
        "\n",
        "This dataset is emblematic in the research community as many enhancements for image problems have been achieved on this dataset, and later on the CIFAR-100 dataset once the performance got too high. You can check the [wikipedia](https://en.wikipedia.org/wiki/CIFAR-10) page of the dataset if you want to know more about it.\n",
        "\n",
        "In this notebook, we propose to implement a CNN to distinguish the 10 categories from the CIFAR-10 dataset. Again, remember that until 10 years ago, this problem was very challenging to the entire research community and is now for you to tackle.\n"
      ]
    },
    {
      "cell_type": "markdown",
      "metadata": {
        "id": "OE3R20SasW6i"
      },
      "source": [
        "## 0. Colab\n",
        "\n",
        "**First, make sure to use GPU acceleration** by clicking on `\"Runtime --> Change runtime --> GPU\"` if you are on Colab. "
      ]
    },
    {
      "cell_type": "markdown",
      "metadata": {
        "collapsed": true,
        "id": "ZY44N5e6T2Il"
      },
      "source": [
        "## 1. Data\n",
        "\n",
        "We'll take care of data loading and preprocessing for you. Just run the following cells and make sure you understand them"
      ]
    },
    {
      "cell_type": "code",
      "metadata": {
        "ExecuteTime": {
          "end_time": "2021-04-28T17:24:01.063283Z",
          "start_time": "2021-04-28T17:23:56.485483Z"
        },
        "colab": {
          "base_uri": "https://localhost:8080/"
        },
        "id": "ZkKdhZXWVj00",
        "outputId": "9d3cd054-55ab-400e-c92a-1f36a9f45b0a"
      },
      "source": [
        "from tensorflow.keras.datasets import cifar10\n",
        "import numpy as np\n",
        "\n",
        "(images_train, labels_train), (images_test, labels_test) = cifar10.load_data()\n",
        "labels = ['airplane', 'automobile', 'bird', 'cat', 'deer',\n",
        "               'dog', 'frog', 'horse', 'ship', 'truck']\n",
        "\n",
        "print(images_train.shape, images_test.shape)\n",
        "unique, counts = np.unique(labels_train, return_counts=True)\n",
        "dict(zip(unique, counts))"
      ],
      "execution_count": 1,
      "outputs": [
        {
          "output_type": "stream",
          "text": [
            "(50000, 32, 32, 3) (10000, 32, 32, 3)\n"
          ],
          "name": "stdout"
        },
        {
          "output_type": "execute_result",
          "data": {
            "text/plain": [
              "{0: 5000,\n",
              " 1: 5000,\n",
              " 2: 5000,\n",
              " 3: 5000,\n",
              " 4: 5000,\n",
              " 5: 5000,\n",
              " 6: 5000,\n",
              " 7: 5000,\n",
              " 8: 5000,\n",
              " 9: 5000}"
            ]
          },
          "metadata": {
            "tags": []
          },
          "execution_count": 1
        }
      ]
    },
    {
      "cell_type": "markdown",
      "metadata": {
        "id": "ZI_3K-MHT2In"
      },
      "source": [
        "❗️ 50,000 images may take a long time to train: **Always start with a subsample to iterate quickly** before scaling up\n",
        "\n",
        "Below, we divide the dataset size by `reduction_factor=10`. Don't try to increase it unless we ask you too."
      ]
    },
    {
      "cell_type": "code",
      "metadata": {
        "ExecuteTime": {
          "end_time": "2021-04-28T18:14:07.619432Z",
          "start_time": "2021-04-28T18:14:07.022874Z"
        },
        "colab": {
          "base_uri": "https://localhost:8080/"
        },
        "id": "wR_JXHmlT2Io",
        "outputId": "e6156de0-7196-4f6b-fb4c-e43ef7b918b5"
      },
      "source": [
        "# Reduce size\n",
        "reduction_factor = 10\n",
        "\n",
        "idx_train =  np.random.choice(len(images_train), round(len(images_train)/reduction_factor))\n",
        "idx_test =  np.random.choice(len(images_test), round(len(images_test)/reduction_factor))\n",
        "\n",
        "images_train_small = images_train[idx_train]\n",
        "images_test_small = images_test[idx_test]\n",
        "labels_train_small = labels_train[idx_train]\n",
        "labels_test_small = labels_test[idx_test]\n",
        "\n",
        "print(images_train.shape, images_test.shape)\n",
        "unique, counts = np.unique(labels_train_small, return_counts=True)\n",
        "dict(zip(unique, counts))"
      ],
      "execution_count": 2,
      "outputs": [
        {
          "output_type": "stream",
          "text": [
            "(50000, 32, 32, 3) (10000, 32, 32, 3)\n"
          ],
          "name": "stdout"
        },
        {
          "output_type": "execute_result",
          "data": {
            "text/plain": [
              "{0: 467,\n",
              " 1: 503,\n",
              " 2: 502,\n",
              " 3: 508,\n",
              " 4: 492,\n",
              " 5: 508,\n",
              " 6: 525,\n",
              " 7: 506,\n",
              " 8: 467,\n",
              " 9: 522}"
            ]
          },
          "metadata": {
            "tags": []
          },
          "execution_count": 2
        }
      ]
    },
    {
      "cell_type": "code",
      "metadata": {
        "ExecuteTime": {
          "end_time": "2021-04-28T17:25:40.424504Z",
          "start_time": "2021-04-28T17:25:40.022376Z"
        },
        "colab": {
          "base_uri": "https://localhost:8080/",
          "height": 183
        },
        "id": "hQ62jK5VVj03",
        "outputId": "8eff6f39-577c-46fd-de95-17edb41558e0"
      },
      "source": [
        "# Let's plot few images to see what they look like\n",
        "import matplotlib.pyplot as plt\n",
        "\n",
        "plt.figure(figsize=(15,5))\n",
        "for i in range(6):\n",
        "    plt.subplot(1,6, i+1)\n",
        "    img = images_train[i]\n",
        "    label = labels_train[i][0]\n",
        "    plt.imshow(img)\n",
        "    plt.title(labels[label])"
      ],
      "execution_count": 3,
      "outputs": [
        {
          "output_type": "display_data",
          "data": {
            "image/png": "[encoded data removed]",
            "text/plain": [
              "<Figure size 1080x360 with 6 Axes>"
            ]
          },
          "metadata": {
            "tags": [],
            "needs_background": "light"
          }
        }
      ]
    },
    {
      "cell_type": "markdown",
      "metadata": {
        "id": "WMG4ttoHVj02"
      },
      "source": [
        "And, as usual,\n",
        "- we normalize the data between 0 and 1\n",
        "- we create `y` as one-hot-encoded version of `labels`"
      ]
    },
    {
      "cell_type": "code",
      "metadata": {
        "ExecuteTime": {
          "end_time": "2021-04-28T17:30:36.240227Z",
          "start_time": "2021-04-28T17:30:34.949442Z"
        },
        "id": "Fm8XRTbiVj02"
      },
      "source": [
        "X_train = images_train / 255.\n",
        "X_train_small = images_train_small / 255.\n",
        "X_test = images_test / 255.\n",
        "X_test_small = images_test_small / 255.\n",
        "\n",
        "from tensorflow.keras.utils import to_categorical\n",
        "y_train = to_categorical(labels_train, 10)\n",
        "y_train_small = to_categorical(labels_train_small, 10)\n",
        "y_test = to_categorical(labels_test, 10)\n",
        "y_test_small = to_categorical(labels_test_small, 10)"
      ],
      "execution_count": 4,
      "outputs": []
    },
    {
      "cell_type": "code",
      "metadata": {
        "colab": {
          "base_uri": "https://localhost:8080/"
        },
        "id": "TLYcUuZwm0sN",
        "outputId": "4d385196-31a3-44dd-da90-e092d84c4d92"
      },
      "source": [
        "y_train_small.shape"
      ],
      "execution_count": 5,
      "outputs": [
        {
          "output_type": "execute_result",
          "data": {
            "text/plain": [
              "(5000, 10)"
            ]
          },
          "metadata": {
            "tags": []
          },
          "execution_count": 5
        }
      ]
    },
    {
      "cell_type": "code",
      "metadata": {
        "colab": {
          "base_uri": "https://localhost:8080/"
        },
        "id": "8b4tyYVJm45w",
        "outputId": "3fe3917d-0185-43c8-b4ec-ca3448ddc8c4"
      },
      "source": [
        "y_test_small.shape"
      ],
      "execution_count": 6,
      "outputs": [
        {
          "output_type": "execute_result",
          "data": {
            "text/plain": [
              "(1000, 10)"
            ]
          },
          "metadata": {
            "tags": []
          },
          "execution_count": 6
        }
      ]
    },
    {
      "cell_type": "markdown",
      "metadata": {
        "id": "ke9YJk7MVj04"
      },
      "source": [
        "## 2. Iterate on your CNN architecture using your small training set\n",
        "\n",
        "\n",
        "❓ **Question** ❓ Your turn to shine!\n",
        "\n",
        "- Define the CNN architecture of your choice in a method `initialize_model()`\n",
        "- Compile your model in a method `compile_model()`:\n",
        "- Fit it on your **small** training set **only**\n",
        "- Store the output of the fit in an `history` variable\n",
        "- Try a first model yourself, before looking at PRO TIPS below\n",
        " \n",
        "<details>\n",
        "    <summary> 🆘 PRO TIPS 🆘  </summary>\n",
        "\n",
        "\n",
        "- Do not forget to add the input shape of your data to the first layer: it has 3 colors\n",
        "- Start simple, complexify after few trials to get better results\n",
        "- The task is complex: Try at least 3 or 4 convolutions\n",
        "- Kernel size do not need to be large for such small picture resolution!\n",
        "- Add some Maxpooling (but not too much else the activation \"image\" will become too small)\n",
        "- Keep padding = 'same' and 'stride' = (1,1) to start with.\n",
        "- Once your model overfits, try adding some dropout layer to regularize the network. A good tip is too increase dropout strengh as you move closer to the output, so as not to overfit on your end-result\n",
        "- Images are so small, that you can use larger batch size (32 or 64) to benefit from even more GPU parallelization\n",
        "</details>\n"
      ]
    },
    {
      "cell_type": "code",
      "metadata": {
        "id": "DSSft1k9pzck"
      },
      "source": [
        "from tensorflow.keras import layers\n",
        "from tensorflow.keras import models"
      ],
      "execution_count": 7,
      "outputs": []
    },
    {
      "cell_type": "code",
      "metadata": {
        "id": "GNOtE5xhVj04"
      },
      "source": [
        "def initialize_model():\n",
        "    '''instanciate and return the CNN architecture of your choice with less than 150,000 params'''\n",
        "    \n",
        "    model = models.Sequential()\n",
        "    \n",
        "    model.add(layers.Conv2D(32,(3,3), strides=(1,1),input_shape=(32, 32, 3), padding = 'same', activation=\"relu\"))\n",
        "    model.add(layers.MaxPooling2D(pool_size=(2,2)))\n",
        "\n",
        "    ### Second convolution & max-pooling\n",
        "    model.add(layers.Conv2D(64, (3,3), padding = 'same', activation=\"relu\"))\n",
        "    model.add(layers.MaxPooling2D(pool_size=(2,2)))\n",
        "\n",
        "    model.add(layers.Conv2D(32, (3,3), padding = 'same', activation=\"relu\"))\n",
        "    #model.add(layers.MaxPooling2D(pool_size=(2,2)))\n",
        "\n",
        "    model.add(layers.Conv2D(32, (3,3), activation=\"relu\"))\n",
        "    #model.add(layers.MaxPooling2D(pool_size=(2,2)))\n",
        "    \n",
        "    ### Flattening\n",
        "    model.add(layers.Flatten())\n",
        "    \n",
        "    ### One fully connected\n",
        "    model.add(layers.Dense(100, activation='relu'))\n",
        "    \n",
        "    model.add(layers.Dropout(0.4))\n",
        "\n",
        "    ### Last layer\n",
        "    model.add(layers.Dense(10, activation='softmax'))\n",
        "\n",
        "    return model"
      ],
      "execution_count": 8,
      "outputs": []
    },
    {
      "cell_type": "code",
      "metadata": {
        "id": "bm7Dttfm1ef8"
      },
      "source": [
        "def initialize_model():\n",
        "    model = models.Sequential()\n",
        "    model.add(layers.Conv2D(32, (3, 3), activation='relu', padding='same', input_shape=(32, 32, 3)))\n",
        "    #model.add(Conv2D(32, (3, 3), activation='relu', padding='same'))\n",
        "    model.add(layers.MaxPooling2D((2, 2)))\n",
        "    model.add(layers.Dropout(0.2))\n",
        "    model.add(layers.Conv2D(64, (3, 3), activation='relu', padding='same'))\n",
        "    #model.add(Conv2D(64, (3, 3), activation='relu', padding='same'))\n",
        "    model.add(layers.MaxPooling2D((2, 2)))\n",
        "    model.add(layers.Dropout(0.2))\n",
        "    model.add(layers.Conv2D(128, (2, 2), activation='relu', padding='same'))\n",
        "    #model.add(Conv2D(128, (3, 3), activation='relu', padding='same'))\n",
        "    model.add(layers.Dropout(0.3))\n",
        "    model.add(layers.MaxPooling2D((2, 2)))\n",
        "    model.add(layers.Flatten())\n",
        "    model.add(layers.Dense(100, activation='relu'))\n",
        "    model.add(layers.Dropout(0.4))\n",
        "    model.add(layers.Dense(10, activation='softmax'))\n",
        "    return model"
      ],
      "execution_count": 9,
      "outputs": []
    },
    {
      "cell_type": "code",
      "metadata": {
        "id": "7C9AL4uBT2Iq"
      },
      "source": [
        "def compile_model(model):\n",
        "    '''return a compiled model suited for the cifar tasks'''\n",
        "    model.compile(loss='categorical_crossentropy', optimizer='adam', metrics = ['accuracy'])\n",
        "\n",
        "    return model"
      ],
      "execution_count": 10,
      "outputs": []
    },
    {
      "cell_type": "code",
      "metadata": {
        "id": "wG5RRA0LplcN"
      },
      "source": [
        "model = initialize_model()"
      ],
      "execution_count": 11,
      "outputs": []
    },
    {
      "cell_type": "code",
      "metadata": {
        "colab": {
          "base_uri": "https://localhost:8080/"
        },
        "id": "LV4yOdZjyK19",
        "outputId": "462493de-9160-4672-9984-fcd5ad6f366a"
      },
      "source": [
        "model.summary()"
      ],
      "execution_count": 12,
      "outputs": [
        {
          "output_type": "stream",
          "text": [
            "Model: \"sequential\"\n",
            "_________________________________________________________________\n",
            "Layer (type)                 Output Shape              Param #   \n",
            "=================================================================\n",
            "conv2d (Conv2D)              (None, 32, 32, 32)        896       \n",
            "_________________________________________________________________\n",
            "max_pooling2d (MaxPooling2D) (None, 16, 16, 32)        0         \n",
            "_________________________________________________________________\n",
            "dropout (Dropout)            (None, 16, 16, 32)        0         \n",
            "_________________________________________________________________\n",
            "conv2d_1 (Conv2D)            (None, 16, 16, 64)        18496     \n",
            "_________________________________________________________________\n",
            "max_pooling2d_1 (MaxPooling2 (None, 8, 8, 64)          0         \n",
            "_________________________________________________________________\n",
            "dropout_1 (Dropout)          (None, 8, 8, 64)          0         \n",
            "_________________________________________________________________\n",
            "conv2d_2 (Conv2D)            (None, 8, 8, 128)         32896     \n",
            "_________________________________________________________________\n",
            "dropout_2 (Dropout)          (None, 8, 8, 128)         0         \n",
            "_________________________________________________________________\n",
            "max_pooling2d_2 (MaxPooling2 (None, 4, 4, 128)         0         \n",
            "_________________________________________________________________\n",
            "flatten (Flatten)            (None, 2048)              0         \n",
            "_________________________________________________________________\n",
            "dense (Dense)                (None, 100)               204900    \n",
            "_________________________________________________________________\n",
            "dropout_3 (Dropout)          (None, 100)               0         \n",
            "_________________________________________________________________\n",
            "dense_1 (Dense)              (None, 10)                1010      \n",
            "=================================================================\n",
            "Total params: 258,198\n",
            "Trainable params: 258,198\n",
            "Non-trainable params: 0\n",
            "_________________________________________________________________\n"
          ],
          "name": "stdout"
        }
      ]
    },
    {
      "cell_type": "code",
      "metadata": {
        "colab": {
          "base_uri": "https://localhost:8080/"
        },
        "id": "126kh7wzp21L",
        "outputId": "4b5e6146-2cd5-4fa2-8da3-f1d0bbe92abf"
      },
      "source": [
        "compile_model(model)"
      ],
      "execution_count": 13,
      "outputs": [
        {
          "output_type": "execute_result",
          "data": {
            "text/plain": [
              "<tensorflow.python.keras.engine.sequential.Sequential at 0x7f650d1255d0>"
            ]
          },
          "metadata": {
            "tags": []
          },
          "execution_count": 13
        }
      ]
    },
    {
      "cell_type": "code",
      "metadata": {
        "colab": {
          "base_uri": "https://localhost:8080/",
          "height": 1000
        },
        "id": "lV1WosKkn45U",
        "outputId": "49801249-8605-4778-e652-b0c1c734aa4b"
      },
      "source": [
        "history = model.fit(X_train_small, y_train_small, validation_data = (X_test_small, y_test_small), epochs = 500, batch_size = 32, verbose = 1)"
      ],
      "execution_count": 26,
      "outputs": [
        {
          "output_type": "stream",
          "text": [
            "Epoch 1/500\n",
            "157/157 [==============================] - 1s 6ms/step - loss: 0.3616 - accuracy: 0.8770 - val_loss: 1.3870 - val_accuracy: 0.6120\n",
            "Epoch 2/500\n",
            "157/157 [==============================] - 1s 5ms/step - loss: 0.3580 - accuracy: 0.8702 - val_loss: 1.4459 - val_accuracy: 0.6170\n",
            "Epoch 3/500\n",
            "157/157 [==============================] - 1s 5ms/step - loss: 0.3693 - accuracy: 0.8632 - val_loss: 1.4697 - val_accuracy: 0.6010\n",
            "Epoch 4/500\n",
            "157/157 [==============================] - 1s 5ms/step - loss: 0.3625 - accuracy: 0.8680 - val_loss: 1.5020 - val_accuracy: 0.6090\n",
            "Epoch 5/500\n",
            "157/157 [==============================] - 1s 5ms/step - loss: 0.3722 - accuracy: 0.8696 - val_loss: 1.5038 - val_accuracy: 0.6170\n",
            "Epoch 6/500\n",
            "157/157 [==============================] - 1s 5ms/step - loss: 0.3213 - accuracy: 0.8846 - val_loss: 1.4459 - val_accuracy: 0.6180\n",
            "Epoch 7/500\n",
            "157/157 [==============================] - 1s 5ms/step - loss: 0.3450 - accuracy: 0.8772 - val_loss: 1.5286 - val_accuracy: 0.6030\n",
            "Epoch 8/500\n",
            "157/157 [==============================] - 1s 5ms/step - loss: 0.3486 - accuracy: 0.8754 - val_loss: 1.4424 - val_accuracy: 0.6080\n",
            "Epoch 9/500\n",
            "157/157 [==============================] - 1s 5ms/step - loss: 0.3293 - accuracy: 0.8766 - val_loss: 1.4355 - val_accuracy: 0.6150\n",
            "Epoch 10/500\n",
            "157/157 [==============================] - 1s 4ms/step - loss: 0.3480 - accuracy: 0.8788 - val_loss: 1.4770 - val_accuracy: 0.6160\n",
            "Epoch 11/500\n",
            "157/157 [==============================] - 1s 5ms/step - loss: 0.3466 - accuracy: 0.8734 - val_loss: 1.4289 - val_accuracy: 0.6110\n",
            "Epoch 12/500\n",
            "157/157 [==============================] - 1s 5ms/step - loss: 0.3431 - accuracy: 0.8732 - val_loss: 1.4514 - val_accuracy: 0.6190\n",
            "Epoch 13/500\n",
            "157/157 [==============================] - 1s 5ms/step - loss: 0.3018 - accuracy: 0.8888 - val_loss: 1.5721 - val_accuracy: 0.6180\n",
            "Epoch 14/500\n",
            "157/157 [==============================] - 1s 5ms/step - loss: 0.3107 - accuracy: 0.8928 - val_loss: 1.4959 - val_accuracy: 0.6110\n",
            "Epoch 15/500\n",
            "157/157 [==============================] - 1s 5ms/step - loss: 0.3339 - accuracy: 0.8800 - val_loss: 1.4909 - val_accuracy: 0.6060\n",
            "Epoch 16/500\n",
            "157/157 [==============================] - 1s 5ms/step - loss: 0.3394 - accuracy: 0.8798 - val_loss: 1.5326 - val_accuracy: 0.6070\n",
            "Epoch 17/500\n",
            "157/157 [==============================] - 1s 5ms/step - loss: 0.3507 - accuracy: 0.8750 - val_loss: 1.4289 - val_accuracy: 0.6240\n",
            "Epoch 18/500\n",
            "157/157 [==============================] - 1s 5ms/step - loss: 0.3277 - accuracy: 0.8810 - val_loss: 1.4452 - val_accuracy: 0.6120\n",
            "Epoch 19/500\n",
            "157/157 [==============================] - 1s 5ms/step - loss: 0.3211 - accuracy: 0.8784 - val_loss: 1.4680 - val_accuracy: 0.6200\n",
            "Epoch 20/500\n",
            "157/157 [==============================] - 1s 4ms/step - loss: 0.3110 - accuracy: 0.8860 - val_loss: 1.4721 - val_accuracy: 0.6180\n",
            "Epoch 21/500\n",
            "157/157 [==============================] - 1s 5ms/step - loss: 0.3186 - accuracy: 0.8840 - val_loss: 1.4568 - val_accuracy: 0.6220\n",
            "Epoch 22/500\n",
            "157/157 [==============================] - 1s 5ms/step - loss: 0.3270 - accuracy: 0.8782 - val_loss: 1.6862 - val_accuracy: 0.6110\n",
            "Epoch 23/500\n",
            "157/157 [==============================] - 1s 5ms/step - loss: 0.3288 - accuracy: 0.8858 - val_loss: 1.5188 - val_accuracy: 0.6080\n",
            "Epoch 24/500\n",
            "157/157 [==============================] - 1s 5ms/step - loss: 0.3043 - accuracy: 0.8882 - val_loss: 1.5368 - val_accuracy: 0.6160\n",
            "Epoch 25/500\n",
            "157/157 [==============================] - 1s 5ms/step - loss: 0.3188 - accuracy: 0.8866 - val_loss: 1.5426 - val_accuracy: 0.6230\n",
            "Epoch 26/500\n",
            "157/157 [==============================] - 1s 5ms/step - loss: 0.3204 - accuracy: 0.8826 - val_loss: 1.5006 - val_accuracy: 0.6280\n",
            "Epoch 27/500\n",
            "157/157 [==============================] - 1s 5ms/step - loss: 0.3081 - accuracy: 0.8922 - val_loss: 1.5269 - val_accuracy: 0.6150\n",
            "Epoch 28/500\n",
            "157/157 [==============================] - 1s 5ms/step - loss: 0.3376 - accuracy: 0.8824 - val_loss: 1.4860 - val_accuracy: 0.6130\n",
            "Epoch 29/500\n",
            "157/157 [==============================] - 1s 5ms/step - loss: 0.3055 - accuracy: 0.8912 - val_loss: 1.4715 - val_accuracy: 0.6200\n",
            "Epoch 30/500\n",
            "157/157 [==============================] - 1s 5ms/step - loss: 0.3182 - accuracy: 0.8854 - val_loss: 1.5449 - val_accuracy: 0.6240\n",
            "Epoch 31/500\n",
            "157/157 [==============================] - 1s 5ms/step - loss: 0.2829 - accuracy: 0.8952 - val_loss: 1.4960 - val_accuracy: 0.6370\n",
            "Epoch 32/500\n",
            "157/157 [==============================] - 1s 5ms/step - loss: 0.2835 - accuracy: 0.8994 - val_loss: 1.5442 - val_accuracy: 0.6270\n",
            "Epoch 33/500\n",
            "157/157 [==============================] - 1s 5ms/step - loss: 0.2857 - accuracy: 0.8966 - val_loss: 1.5470 - val_accuracy: 0.6150\n",
            "Epoch 34/500\n",
            "157/157 [==============================] - 1s 5ms/step - loss: 0.3088 - accuracy: 0.8908 - val_loss: 1.5052 - val_accuracy: 0.6110\n",
            "Epoch 35/500\n",
            "157/157 [==============================] - 1s 5ms/step - loss: 0.3189 - accuracy: 0.8902 - val_loss: 1.5001 - val_accuracy: 0.6260\n",
            "Epoch 36/500\n",
            "157/157 [==============================] - 1s 5ms/step - loss: 0.2951 - accuracy: 0.8954 - val_loss: 1.5783 - val_accuracy: 0.6090\n",
            "Epoch 37/500\n",
            "157/157 [==============================] - 1s 5ms/step - loss: 0.2892 - accuracy: 0.8940 - val_loss: 1.4654 - val_accuracy: 0.6230\n",
            "Epoch 38/500\n",
            "157/157 [==============================] - 1s 5ms/step - loss: 0.3011 - accuracy: 0.8944 - val_loss: 1.5511 - val_accuracy: 0.6180\n",
            "Epoch 39/500\n",
            "157/157 [==============================] - 1s 5ms/step - loss: 0.3068 - accuracy: 0.8906 - val_loss: 1.4875 - val_accuracy: 0.6320\n",
            "Epoch 40/500\n",
            "157/157 [==============================] - 1s 5ms/step - loss: 0.2995 - accuracy: 0.8930 - val_loss: 1.4987 - val_accuracy: 0.6100\n",
            "Epoch 41/500\n",
            "157/157 [==============================] - 1s 5ms/step - loss: 0.3056 - accuracy: 0.8918 - val_loss: 1.6018 - val_accuracy: 0.6000\n",
            "Epoch 42/500\n",
            "157/157 [==============================] - 1s 5ms/step - loss: 0.2983 - accuracy: 0.8940 - val_loss: 1.4874 - val_accuracy: 0.6250\n",
            "Epoch 43/500\n",
            "157/157 [==============================] - 1s 5ms/step - loss: 0.2853 - accuracy: 0.8990 - val_loss: 1.4596 - val_accuracy: 0.6270\n",
            "Epoch 44/500\n",
            "157/157 [==============================] - 1s 5ms/step - loss: 0.2891 - accuracy: 0.8992 - val_loss: 1.5213 - val_accuracy: 0.6140\n",
            "Epoch 45/500\n",
            "157/157 [==============================] - 1s 5ms/step - loss: 0.3142 - accuracy: 0.8856 - val_loss: 1.5745 - val_accuracy: 0.6110\n",
            "Epoch 46/500\n",
            "157/157 [==============================] - 1s 5ms/step - loss: 0.3000 - accuracy: 0.8940 - val_loss: 1.4616 - val_accuracy: 0.6200\n",
            "Epoch 47/500\n",
            "157/157 [==============================] - 1s 5ms/step - loss: 0.2888 - accuracy: 0.8990 - val_loss: 1.4680 - val_accuracy: 0.6260\n",
            "Epoch 48/500\n",
            "157/157 [==============================] - 1s 5ms/step - loss: 0.2815 - accuracy: 0.9004 - val_loss: 1.5860 - val_accuracy: 0.6170\n",
            "Epoch 49/500\n",
            "157/157 [==============================] - 1s 5ms/step - loss: 0.2600 - accuracy: 0.9050 - val_loss: 1.5622 - val_accuracy: 0.6210\n",
            "Epoch 50/500\n",
            "157/157 [==============================] - 1s 5ms/step - loss: 0.2797 - accuracy: 0.9008 - val_loss: 1.5264 - val_accuracy: 0.6210\n",
            "Epoch 51/500\n",
            "157/157 [==============================] - 1s 5ms/step - loss: 0.2756 - accuracy: 0.8968 - val_loss: 1.4690 - val_accuracy: 0.6230\n",
            "Epoch 52/500\n",
            "157/157 [==============================] - 1s 5ms/step - loss: 0.2614 - accuracy: 0.9040 - val_loss: 1.5308 - val_accuracy: 0.6180\n",
            "Epoch 53/500\n",
            "157/157 [==============================] - 1s 5ms/step - loss: 0.2575 - accuracy: 0.9056 - val_loss: 1.4839 - val_accuracy: 0.6150\n",
            "Epoch 54/500\n",
            "157/157 [==============================] - 1s 5ms/step - loss: 0.2672 - accuracy: 0.9010 - val_loss: 1.4982 - val_accuracy: 0.6300\n",
            "Epoch 55/500\n",
            "157/157 [==============================] - 1s 5ms/step - loss: 0.2717 - accuracy: 0.9046 - val_loss: 1.5563 - val_accuracy: 0.6360\n",
            "Epoch 56/500\n",
            "157/157 [==============================] - 1s 5ms/step - loss: 0.2764 - accuracy: 0.9008 - val_loss: 1.5425 - val_accuracy: 0.6290\n",
            "Epoch 57/500\n",
            "157/157 [==============================] - 1s 5ms/step - loss: 0.2776 - accuracy: 0.9028 - val_loss: 1.5382 - val_accuracy: 0.6270\n",
            "Epoch 58/500\n",
            "157/157 [==============================] - 1s 5ms/step - loss: 0.2814 - accuracy: 0.8960 - val_loss: 1.5621 - val_accuracy: 0.6300\n",
            "Epoch 59/500\n",
            "157/157 [==============================] - 1s 5ms/step - loss: 0.2774 - accuracy: 0.8986 - val_loss: 1.5749 - val_accuracy: 0.6290\n",
            "Epoch 60/500\n",
            "157/157 [==============================] - 1s 5ms/step - loss: 0.2666 - accuracy: 0.9048 - val_loss: 1.6408 - val_accuracy: 0.6270\n",
            "Epoch 61/500\n",
            "157/157 [==============================] - 1s 5ms/step - loss: 0.2690 - accuracy: 0.9078 - val_loss: 1.5962 - val_accuracy: 0.6220\n",
            "Epoch 62/500\n",
            "157/157 [==============================] - 1s 5ms/step - loss: 0.2592 - accuracy: 0.9084 - val_loss: 1.6113 - val_accuracy: 0.6200\n",
            "Epoch 63/500\n",
            "157/157 [==============================] - 1s 5ms/step - loss: 0.2786 - accuracy: 0.9036 - val_loss: 1.6049 - val_accuracy: 0.6100\n",
            "Epoch 64/500\n",
            "157/157 [==============================] - 1s 5ms/step - loss: 0.2957 - accuracy: 0.8954 - val_loss: 1.5793 - val_accuracy: 0.5930\n",
            "Epoch 65/500\n",
            "157/157 [==============================] - 1s 5ms/step - loss: 0.2570 - accuracy: 0.9034 - val_loss: 1.5905 - val_accuracy: 0.6240\n",
            "Epoch 66/500\n",
            "157/157 [==============================] - 1s 5ms/step - loss: 0.2601 - accuracy: 0.9040 - val_loss: 1.6720 - val_accuracy: 0.6340\n",
            "Epoch 67/500\n",
            "157/157 [==============================] - 1s 5ms/step - loss: 0.2641 - accuracy: 0.9074 - val_loss: 1.6328 - val_accuracy: 0.6380\n",
            "Epoch 68/500\n",
            "157/157 [==============================] - 1s 5ms/step - loss: 0.2822 - accuracy: 0.8994 - val_loss: 1.5100 - val_accuracy: 0.6140\n",
            "Epoch 69/500\n",
            "157/157 [==============================] - 1s 5ms/step - loss: 0.2676 - accuracy: 0.9032 - val_loss: 1.6459 - val_accuracy: 0.6230\n",
            "Epoch 70/500\n",
            "157/157 [==============================] - 1s 5ms/step - loss: 0.2747 - accuracy: 0.9022 - val_loss: 1.6057 - val_accuracy: 0.6220\n",
            "Epoch 71/500\n",
            "157/157 [==============================] - 1s 5ms/step - loss: 0.2834 - accuracy: 0.8954 - val_loss: 1.4751 - val_accuracy: 0.6240\n",
            "Epoch 72/500\n",
            "157/157 [==============================] - 1s 5ms/step - loss: 0.2585 - accuracy: 0.9046 - val_loss: 1.5846 - val_accuracy: 0.6290\n",
            "Epoch 73/500\n",
            "157/157 [==============================] - 1s 5ms/step - loss: 0.2703 - accuracy: 0.9038 - val_loss: 1.5462 - val_accuracy: 0.6170\n",
            "Epoch 74/500\n",
            "157/157 [==============================] - 1s 5ms/step - loss: 0.2407 - accuracy: 0.9134 - val_loss: 1.6403 - val_accuracy: 0.6260\n",
            "Epoch 75/500\n",
            "157/157 [==============================] - 1s 5ms/step - loss: 0.2545 - accuracy: 0.9124 - val_loss: 1.6714 - val_accuracy: 0.6130\n",
            "Epoch 76/500\n",
            "157/157 [==============================] - 1s 5ms/step - loss: 0.2582 - accuracy: 0.9106 - val_loss: 1.5707 - val_accuracy: 0.6320\n",
            "Epoch 77/500\n",
            "157/157 [==============================] - 1s 5ms/step - loss: 0.2430 - accuracy: 0.9164 - val_loss: 1.7024 - val_accuracy: 0.6200\n",
            "Epoch 78/500\n",
            "157/157 [==============================] - 1s 5ms/step - loss: 0.2659 - accuracy: 0.9088 - val_loss: 1.5650 - val_accuracy: 0.6120\n",
            "Epoch 79/500\n",
            "157/157 [==============================] - 1s 5ms/step - loss: 0.2363 - accuracy: 0.9158 - val_loss: 1.6443 - val_accuracy: 0.6050\n",
            "Epoch 80/500\n",
            "157/157 [==============================] - 1s 5ms/step - loss: 0.2388 - accuracy: 0.9132 - val_loss: 1.6316 - val_accuracy: 0.6300\n",
            "Epoch 81/500\n",
            "157/157 [==============================] - 1s 5ms/step - loss: 0.2623 - accuracy: 0.9104 - val_loss: 1.5755 - val_accuracy: 0.6080\n",
            "Epoch 82/500\n",
            "157/157 [==============================] - 1s 5ms/step - loss: 0.2453 - accuracy: 0.9128 - val_loss: 1.6881 - val_accuracy: 0.6130\n",
            "Epoch 83/500\n",
            "157/157 [==============================] - 1s 5ms/step - loss: 0.2473 - accuracy: 0.9110 - val_loss: 1.6161 - val_accuracy: 0.6220\n",
            "Epoch 84/500\n",
            "157/157 [==============================] - 1s 5ms/step - loss: 0.2612 - accuracy: 0.9146 - val_loss: 1.5787 - val_accuracy: 0.6130\n",
            "Epoch 85/500\n",
            "157/157 [==============================] - 1s 5ms/step - loss: 0.2585 - accuracy: 0.9114 - val_loss: 1.6627 - val_accuracy: 0.6100\n",
            "Epoch 86/500\n",
            "157/157 [==============================] - 1s 5ms/step - loss: 0.2646 - accuracy: 0.9084 - val_loss: 1.6769 - val_accuracy: 0.6180\n",
            "Epoch 87/500\n",
            "157/157 [==============================] - 1s 5ms/step - loss: 0.2337 - accuracy: 0.9192 - val_loss: 1.6338 - val_accuracy: 0.6430\n",
            "Epoch 88/500\n",
            "157/157 [==============================] - 1s 5ms/step - loss: 0.2443 - accuracy: 0.9140 - val_loss: 1.6106 - val_accuracy: 0.6240\n",
            "Epoch 89/500\n",
            "157/157 [==============================] - 1s 5ms/step - loss: 0.2469 - accuracy: 0.9090 - val_loss: 1.5951 - val_accuracy: 0.6150\n",
            "Epoch 90/500\n",
            "157/157 [==============================] - 1s 5ms/step - loss: 0.2293 - accuracy: 0.9190 - val_loss: 1.6723 - val_accuracy: 0.6220\n",
            "Epoch 91/500\n",
            "157/157 [==============================] - 1s 5ms/step - loss: 0.2587 - accuracy: 0.9036 - val_loss: 1.6289 - val_accuracy: 0.6260\n",
            "Epoch 92/500\n",
            "157/157 [==============================] - 1s 5ms/step - loss: 0.2513 - accuracy: 0.9118 - val_loss: 1.5810 - val_accuracy: 0.6250\n",
            "Epoch 93/500\n",
            "157/157 [==============================] - 1s 5ms/step - loss: 0.2552 - accuracy: 0.9172 - val_loss: 1.6154 - val_accuracy: 0.6310\n",
            "Epoch 94/500\n",
            "157/157 [==============================] - 1s 5ms/step - loss: 0.2426 - accuracy: 0.9130 - val_loss: 1.6395 - val_accuracy: 0.6180\n",
            "Epoch 95/500\n",
            "157/157 [==============================] - 1s 5ms/step - loss: 0.2382 - accuracy: 0.9166 - val_loss: 1.6077 - val_accuracy: 0.6410\n",
            "Epoch 96/500\n",
            "157/157 [==============================] - 1s 5ms/step - loss: 0.2379 - accuracy: 0.9158 - val_loss: 1.7114 - val_accuracy: 0.6280\n",
            "Epoch 97/500\n",
            "157/157 [==============================] - 1s 5ms/step - loss: 0.2451 - accuracy: 0.9140 - val_loss: 1.6990 - val_accuracy: 0.6170\n",
            "Epoch 98/500\n",
            "157/157 [==============================] - 1s 5ms/step - loss: 0.2524 - accuracy: 0.9126 - val_loss: 1.5383 - val_accuracy: 0.6200\n",
            "Epoch 99/500\n",
            "157/157 [==============================] - 1s 5ms/step - loss: 0.2422 - accuracy: 0.9090 - val_loss: 1.6933 - val_accuracy: 0.6160\n",
            "Epoch 100/500\n",
            "157/157 [==============================] - 1s 5ms/step - loss: 0.2260 - accuracy: 0.9234 - val_loss: 1.7222 - val_accuracy: 0.6270\n",
            "Epoch 101/500\n",
            "157/157 [==============================] - 1s 5ms/step - loss: 0.2079 - accuracy: 0.9304 - val_loss: 1.6235 - val_accuracy: 0.6200\n",
            "Epoch 102/500\n",
            "157/157 [==============================] - 1s 5ms/step - loss: 0.2203 - accuracy: 0.9202 - val_loss: 1.7269 - val_accuracy: 0.6230\n",
            "Epoch 103/500\n",
            "157/157 [==============================] - 1s 5ms/step - loss: 0.2265 - accuracy: 0.9206 - val_loss: 1.7509 - val_accuracy: 0.6140\n",
            "Epoch 104/500\n",
            "157/157 [==============================] - 1s 5ms/step - loss: 0.2488 - accuracy: 0.9118 - val_loss: 1.5980 - val_accuracy: 0.6270\n",
            "Epoch 105/500\n",
            "157/157 [==============================] - 1s 5ms/step - loss: 0.2353 - accuracy: 0.9144 - val_loss: 1.6592 - val_accuracy: 0.6180\n",
            "Epoch 106/500\n",
            "157/157 [==============================] - 1s 5ms/step - loss: 0.2442 - accuracy: 0.9160 - val_loss: 1.6459 - val_accuracy: 0.6130\n",
            "Epoch 107/500\n",
            "157/157 [==============================] - 1s 5ms/step - loss: 0.2372 - accuracy: 0.9174 - val_loss: 1.6540 - val_accuracy: 0.6340\n",
            "Epoch 108/500\n",
            "157/157 [==============================] - 1s 5ms/step - loss: 0.2374 - accuracy: 0.9190 - val_loss: 1.5613 - val_accuracy: 0.6480\n",
            "Epoch 109/500\n",
            "157/157 [==============================] - 1s 5ms/step - loss: 0.2224 - accuracy: 0.9228 - val_loss: 1.6933 - val_accuracy: 0.6300\n",
            "Epoch 110/500\n",
            "157/157 [==============================] - 1s 5ms/step - loss: 0.2401 - accuracy: 0.9152 - val_loss: 1.6423 - val_accuracy: 0.6390\n",
            "Epoch 111/500\n",
            "157/157 [==============================] - 1s 5ms/step - loss: 0.2457 - accuracy: 0.9134 - val_loss: 1.6959 - val_accuracy: 0.6200\n",
            "Epoch 112/500\n",
            "157/157 [==============================] - 1s 5ms/step - loss: 0.2339 - accuracy: 0.9188 - val_loss: 1.6054 - val_accuracy: 0.6300\n",
            "Epoch 113/500\n",
            "157/157 [==============================] - 1s 5ms/step - loss: 0.2145 - accuracy: 0.9234 - val_loss: 1.6158 - val_accuracy: 0.6330\n",
            "Epoch 114/500\n",
            "157/157 [==============================] - 1s 5ms/step - loss: 0.2286 - accuracy: 0.9144 - val_loss: 1.6559 - val_accuracy: 0.6370\n",
            "Epoch 115/500\n",
            "157/157 [==============================] - 1s 5ms/step - loss: 0.2010 - accuracy: 0.9242 - val_loss: 1.6624 - val_accuracy: 0.6370\n",
            "Epoch 116/500\n",
            "157/157 [==============================] - 1s 5ms/step - loss: 0.2165 - accuracy: 0.9208 - val_loss: 1.5880 - val_accuracy: 0.6310\n",
            "Epoch 117/500\n",
            "157/157 [==============================] - 1s 5ms/step - loss: 0.2454 - accuracy: 0.9142 - val_loss: 1.5479 - val_accuracy: 0.6250\n",
            "Epoch 118/500\n",
            "157/157 [==============================] - 1s 5ms/step - loss: 0.2266 - accuracy: 0.9212 - val_loss: 1.6338 - val_accuracy: 0.6180\n",
            "Epoch 119/500\n",
            "157/157 [==============================] - 1s 5ms/step - loss: 0.2231 - accuracy: 0.9246 - val_loss: 1.5306 - val_accuracy: 0.6230\n",
            "Epoch 120/500\n",
            "157/157 [==============================] - 1s 5ms/step - loss: 0.2313 - accuracy: 0.9224 - val_loss: 1.6249 - val_accuracy: 0.6160\n",
            "Epoch 121/500\n",
            "157/157 [==============================] - 1s 5ms/step - loss: 0.2288 - accuracy: 0.9208 - val_loss: 1.6806 - val_accuracy: 0.6340\n",
            "Epoch 122/500\n",
            "157/157 [==============================] - 1s 5ms/step - loss: 0.2191 - accuracy: 0.9206 - val_loss: 1.6191 - val_accuracy: 0.6210\n",
            "Epoch 123/500\n",
            "157/157 [==============================] - 1s 5ms/step - loss: 0.2215 - accuracy: 0.9218 - val_loss: 1.7003 - val_accuracy: 0.6300\n",
            "Epoch 124/500\n",
            "157/157 [==============================] - 1s 5ms/step - loss: 0.2032 - accuracy: 0.9272 - val_loss: 1.7674 - val_accuracy: 0.6180\n",
            "Epoch 125/500\n",
            "157/157 [==============================] - 1s 5ms/step - loss: 0.2084 - accuracy: 0.9242 - val_loss: 1.6292 - val_accuracy: 0.6400\n",
            "Epoch 126/500\n",
            "157/157 [==============================] - 1s 5ms/step - loss: 0.2081 - accuracy: 0.9222 - val_loss: 1.6583 - val_accuracy: 0.6250\n",
            "Epoch 127/500\n",
            "157/157 [==============================] - 1s 5ms/step - loss: 0.2188 - accuracy: 0.9260 - val_loss: 1.6652 - val_accuracy: 0.6360\n",
            "Epoch 128/500\n",
            "157/157 [==============================] - 1s 5ms/step - loss: 0.2123 - accuracy: 0.9292 - val_loss: 1.6369 - val_accuracy: 0.6240\n",
            "Epoch 129/500\n",
            "157/157 [==============================] - 1s 5ms/step - loss: 0.2265 - accuracy: 0.9224 - val_loss: 1.6806 - val_accuracy: 0.6080\n",
            "Epoch 130/500\n",
            "157/157 [==============================] - 1s 5ms/step - loss: 0.2151 - accuracy: 0.9212 - val_loss: 1.7866 - val_accuracy: 0.6260\n",
            "Epoch 131/500\n",
            "157/157 [==============================] - 1s 5ms/step - loss: 0.2188 - accuracy: 0.9272 - val_loss: 1.6440 - val_accuracy: 0.6330\n",
            "Epoch 132/500\n",
            "157/157 [==============================] - 1s 5ms/step - loss: 0.2216 - accuracy: 0.9228 - val_loss: 1.7940 - val_accuracy: 0.6190\n",
            "Epoch 133/500\n",
            "157/157 [==============================] - 1s 5ms/step - loss: 0.2149 - accuracy: 0.9252 - val_loss: 1.6946 - val_accuracy: 0.6360\n",
            "Epoch 134/500\n",
            "157/157 [==============================] - 1s 5ms/step - loss: 0.2237 - accuracy: 0.9238 - val_loss: 1.7139 - val_accuracy: 0.6320\n",
            "Epoch 135/500\n",
            "157/157 [==============================] - 1s 5ms/step - loss: 0.2069 - accuracy: 0.9266 - val_loss: 1.6625 - val_accuracy: 0.6310\n",
            "Epoch 136/500\n",
            "157/157 [==============================] - 1s 5ms/step - loss: 0.2059 - accuracy: 0.9280 - val_loss: 1.6759 - val_accuracy: 0.6310\n",
            "Epoch 137/500\n",
            "157/157 [==============================] - 1s 5ms/step - loss: 0.2156 - accuracy: 0.9230 - val_loss: 1.7290 - val_accuracy: 0.6120\n",
            "Epoch 138/500\n",
            "157/157 [==============================] - 1s 5ms/step - loss: 0.2313 - accuracy: 0.9184 - val_loss: 1.6424 - val_accuracy: 0.6110\n",
            "Epoch 139/500\n",
            "157/157 [==============================] - 1s 5ms/step - loss: 0.2222 - accuracy: 0.9244 - val_loss: 1.6327 - val_accuracy: 0.6290\n",
            "Epoch 140/500\n",
            "157/157 [==============================] - 1s 5ms/step - loss: 0.2134 - accuracy: 0.9244 - val_loss: 1.6627 - val_accuracy: 0.6290\n",
            "Epoch 141/500\n",
            "157/157 [==============================] - 1s 5ms/step - loss: 0.2140 - accuracy: 0.9278 - val_loss: 1.5943 - val_accuracy: 0.6340\n",
            "Epoch 142/500\n",
            "157/157 [==============================] - 1s 5ms/step - loss: 0.2175 - accuracy: 0.9204 - val_loss: 1.7470 - val_accuracy: 0.6250\n",
            "Epoch 143/500\n",
            "157/157 [==============================] - 1s 5ms/step - loss: 0.2164 - accuracy: 0.9280 - val_loss: 1.6500 - val_accuracy: 0.6390\n",
            "Epoch 144/500\n",
            "157/157 [==============================] - 1s 5ms/step - loss: 0.2104 - accuracy: 0.9312 - val_loss: 1.7780 - val_accuracy: 0.6190\n",
            "Epoch 145/500\n",
            "157/157 [==============================] - 1s 5ms/step - loss: 0.2276 - accuracy: 0.9234 - val_loss: 1.7492 - val_accuracy: 0.6220\n",
            "Epoch 146/500\n",
            "157/157 [==============================] - 1s 5ms/step - loss: 0.1958 - accuracy: 0.9338 - val_loss: 1.7982 - val_accuracy: 0.6190\n",
            "Epoch 147/500\n",
            "157/157 [==============================] - 1s 5ms/step - loss: 0.2138 - accuracy: 0.9240 - val_loss: 1.7690 - val_accuracy: 0.6210\n",
            "Epoch 148/500\n",
            "157/157 [==============================] - 1s 5ms/step - loss: 0.1998 - accuracy: 0.9260 - val_loss: 1.8184 - val_accuracy: 0.6300\n",
            "Epoch 149/500\n",
            "157/157 [==============================] - 1s 5ms/step - loss: 0.2333 - accuracy: 0.9210 - val_loss: 1.7244 - val_accuracy: 0.6100\n",
            "Epoch 150/500\n",
            "157/157 [==============================] - 1s 5ms/step - loss: 0.2077 - accuracy: 0.9238 - val_loss: 1.7479 - val_accuracy: 0.6230\n",
            "Epoch 151/500\n",
            "157/157 [==============================] - 1s 5ms/step - loss: 0.2032 - accuracy: 0.9298 - val_loss: 1.6710 - val_accuracy: 0.6320\n",
            "Epoch 152/500\n",
            "157/157 [==============================] - 1s 5ms/step - loss: 0.1980 - accuracy: 0.9298 - val_loss: 1.7908 - val_accuracy: 0.6240\n",
            "Epoch 153/500\n",
            "157/157 [==============================] - 1s 5ms/step - loss: 0.1834 - accuracy: 0.9338 - val_loss: 1.7594 - val_accuracy: 0.6240\n",
            "Epoch 154/500\n",
            "157/157 [==============================] - 1s 5ms/step - loss: 0.2039 - accuracy: 0.9240 - val_loss: 1.8010 - val_accuracy: 0.6130\n",
            "Epoch 155/500\n",
            "157/157 [==============================] - 1s 5ms/step - loss: 0.2080 - accuracy: 0.9286 - val_loss: 1.6974 - val_accuracy: 0.6130\n",
            "Epoch 156/500\n",
            "157/157 [==============================] - 1s 5ms/step - loss: 0.2038 - accuracy: 0.9310 - val_loss: 1.6797 - val_accuracy: 0.6260\n",
            "Epoch 157/500\n",
            "157/157 [==============================] - 1s 5ms/step - loss: 0.2302 - accuracy: 0.9206 - val_loss: 1.6798 - val_accuracy: 0.6280\n",
            "Epoch 158/500\n",
            "157/157 [==============================] - 1s 5ms/step - loss: 0.1884 - accuracy: 0.9314 - val_loss: 1.8795 - val_accuracy: 0.6280\n",
            "Epoch 159/500\n",
            "157/157 [==============================] - 1s 5ms/step - loss: 0.2189 - accuracy: 0.9238 - val_loss: 1.7233 - val_accuracy: 0.6130\n",
            "Epoch 160/500\n",
            "157/157 [==============================] - 1s 5ms/step - loss: 0.2071 - accuracy: 0.9294 - val_loss: 1.6936 - val_accuracy: 0.6240\n",
            "Epoch 161/500\n",
            "157/157 [==============================] - 1s 5ms/step - loss: 0.2132 - accuracy: 0.9230 - val_loss: 1.7238 - val_accuracy: 0.6370\n",
            "Epoch 162/500\n",
            "157/157 [==============================] - 1s 5ms/step - loss: 0.2046 - accuracy: 0.9260 - val_loss: 1.7428 - val_accuracy: 0.6110\n",
            "Epoch 163/500\n",
            "157/157 [==============================] - 1s 5ms/step - loss: 0.1993 - accuracy: 0.9306 - val_loss: 1.7048 - val_accuracy: 0.6140\n",
            "Epoch 164/500\n",
            "157/157 [==============================] - 1s 5ms/step - loss: 0.2271 - accuracy: 0.9238 - val_loss: 1.6608 - val_accuracy: 0.6140\n",
            "Epoch 165/500\n",
            "157/157 [==============================] - 1s 5ms/step - loss: 0.2088 - accuracy: 0.9302 - val_loss: 1.6894 - val_accuracy: 0.6310\n",
            "Epoch 166/500\n",
            "157/157 [==============================] - 1s 5ms/step - loss: 0.1965 - accuracy: 0.9306 - val_loss: 1.6774 - val_accuracy: 0.6270\n",
            "Epoch 167/500\n",
            "157/157 [==============================] - 1s 5ms/step - loss: 0.2033 - accuracy: 0.9296 - val_loss: 1.7556 - val_accuracy: 0.6230\n",
            "Epoch 168/500\n",
            "157/157 [==============================] - 1s 5ms/step - loss: 0.1937 - accuracy: 0.9334 - val_loss: 1.7971 - val_accuracy: 0.6330\n",
            "Epoch 169/500\n",
            "157/157 [==============================] - 1s 5ms/step - loss: 0.1993 - accuracy: 0.9284 - val_loss: 1.7971 - val_accuracy: 0.6230\n",
            "Epoch 170/500\n",
            "157/157 [==============================] - 1s 5ms/step - loss: 0.2061 - accuracy: 0.9252 - val_loss: 1.8778 - val_accuracy: 0.6120\n",
            "Epoch 171/500\n",
            "157/157 [==============================] - 1s 5ms/step - loss: 0.1962 - accuracy: 0.9318 - val_loss: 1.7829 - val_accuracy: 0.6220\n",
            "Epoch 172/500\n",
            "157/157 [==============================] - 1s 5ms/step - loss: 0.2097 - accuracy: 0.9258 - val_loss: 1.7652 - val_accuracy: 0.6130\n",
            "Epoch 173/500\n",
            "157/157 [==============================] - 1s 5ms/step - loss: 0.2059 - accuracy: 0.9282 - val_loss: 1.7352 - val_accuracy: 0.6190\n",
            "Epoch 174/500\n",
            "157/157 [==============================] - 1s 5ms/step - loss: 0.2194 - accuracy: 0.9248 - val_loss: 1.7508 - val_accuracy: 0.6400\n",
            "Epoch 175/500\n",
            "157/157 [==============================] - 1s 5ms/step - loss: 0.1988 - accuracy: 0.9310 - val_loss: 1.7511 - val_accuracy: 0.6100\n",
            "Epoch 176/500\n",
            "157/157 [==============================] - 1s 5ms/step - loss: 0.1909 - accuracy: 0.9306 - val_loss: 1.7533 - val_accuracy: 0.6220\n",
            "Epoch 177/500\n",
            "157/157 [==============================] - 1s 5ms/step - loss: 0.2037 - accuracy: 0.9284 - val_loss: 1.6887 - val_accuracy: 0.6270\n",
            "Epoch 178/500\n",
            "157/157 [==============================] - 1s 5ms/step - loss: 0.1944 - accuracy: 0.9270 - val_loss: 1.8037 - val_accuracy: 0.6290\n",
            "Epoch 179/500\n",
            "157/157 [==============================] - 1s 5ms/step - loss: 0.2004 - accuracy: 0.9306 - val_loss: 1.7975 - val_accuracy: 0.6180\n",
            "Epoch 180/500\n",
            "157/157 [==============================] - 1s 5ms/step - loss: 0.1854 - accuracy: 0.9366 - val_loss: 1.9768 - val_accuracy: 0.6180\n",
            "Epoch 181/500\n",
            "157/157 [==============================] - 1s 5ms/step - loss: 0.1943 - accuracy: 0.9290 - val_loss: 1.7745 - val_accuracy: 0.6160\n",
            "Epoch 182/500\n",
            "157/157 [==============================] - 1s 5ms/step - loss: 0.2158 - accuracy: 0.9284 - val_loss: 1.7525 - val_accuracy: 0.6380\n",
            "Epoch 183/500\n",
            "157/157 [==============================] - 1s 5ms/step - loss: 0.1883 - accuracy: 0.9382 - val_loss: 1.8427 - val_accuracy: 0.6320\n",
            "Epoch 184/500\n",
            "157/157 [==============================] - 1s 5ms/step - loss: 0.2145 - accuracy: 0.9244 - val_loss: 1.7713 - val_accuracy: 0.6230\n",
            "Epoch 185/500\n",
            "157/157 [==============================] - 1s 5ms/step - loss: 0.1891 - accuracy: 0.9402 - val_loss: 1.7505 - val_accuracy: 0.6140\n",
            "Epoch 186/500\n",
            "157/157 [==============================] - 1s 5ms/step - loss: 0.1980 - accuracy: 0.9316 - val_loss: 1.8055 - val_accuracy: 0.6310\n",
            "Epoch 187/500\n",
            "157/157 [==============================] - 1s 5ms/step - loss: 0.2036 - accuracy: 0.9312 - val_loss: 1.7136 - val_accuracy: 0.6170\n",
            "Epoch 188/500\n",
            "157/157 [==============================] - 1s 5ms/step - loss: 0.1709 - accuracy: 0.9386 - val_loss: 1.8389 - val_accuracy: 0.6230\n",
            "Epoch 189/500\n",
            "157/157 [==============================] - 1s 5ms/step - loss: 0.1735 - accuracy: 0.9378 - val_loss: 1.8249 - val_accuracy: 0.6040\n",
            "Epoch 190/500\n",
            "157/157 [==============================] - 1s 5ms/step - loss: 0.1882 - accuracy: 0.9364 - val_loss: 1.7645 - val_accuracy: 0.6140\n",
            "Epoch 191/500\n",
            "157/157 [==============================] - 1s 5ms/step - loss: 0.1996 - accuracy: 0.9294 - val_loss: 1.7015 - val_accuracy: 0.6340\n",
            "Epoch 192/500\n",
            "157/157 [==============================] - 1s 5ms/step - loss: 0.1981 - accuracy: 0.9316 - val_loss: 1.7513 - val_accuracy: 0.6280\n",
            "Epoch 193/500\n",
            "157/157 [==============================] - 1s 5ms/step - loss: 0.1941 - accuracy: 0.9346 - val_loss: 1.7976 - val_accuracy: 0.6180\n",
            "Epoch 194/500\n",
            "157/157 [==============================] - 1s 5ms/step - loss: 0.2125 - accuracy: 0.9328 - val_loss: 1.8091 - val_accuracy: 0.6110\n",
            "Epoch 195/500\n",
            "157/157 [==============================] - 1s 5ms/step - loss: 0.1921 - accuracy: 0.9338 - val_loss: 1.7456 - val_accuracy: 0.6280\n",
            "Epoch 196/500\n",
            "157/157 [==============================] - 1s 5ms/step - loss: 0.1778 - accuracy: 0.9374 - val_loss: 1.7849 - val_accuracy: 0.6140\n",
            "Epoch 197/500\n",
            "157/157 [==============================] - 1s 5ms/step - loss: 0.1783 - accuracy: 0.9382 - val_loss: 1.8275 - val_accuracy: 0.6220\n",
            "Epoch 198/500\n",
            "157/157 [==============================] - 1s 5ms/step - loss: 0.2187 - accuracy: 0.9276 - val_loss: 1.6998 - val_accuracy: 0.6150\n",
            "Epoch 199/500\n",
            "157/157 [==============================] - 1s 5ms/step - loss: 0.2027 - accuracy: 0.9294 - val_loss: 1.7516 - val_accuracy: 0.6240\n",
            "Epoch 200/500\n",
            "157/157 [==============================] - 1s 5ms/step - loss: 0.1853 - accuracy: 0.9348 - val_loss: 1.7367 - val_accuracy: 0.6280\n",
            "Epoch 201/500\n",
            "157/157 [==============================] - 1s 5ms/step - loss: 0.1877 - accuracy: 0.9338 - val_loss: 1.7977 - val_accuracy: 0.6240\n",
            "Epoch 202/500\n",
            "157/157 [==============================] - 1s 5ms/step - loss: 0.1972 - accuracy: 0.9316 - val_loss: 1.6992 - val_accuracy: 0.6260\n",
            "Epoch 203/500\n",
            "157/157 [==============================] - 1s 5ms/step - loss: 0.2126 - accuracy: 0.9288 - val_loss: 1.7584 - val_accuracy: 0.6310\n",
            "Epoch 204/500\n",
            "157/157 [==============================] - 1s 5ms/step - loss: 0.1943 - accuracy: 0.9344 - val_loss: 1.7488 - val_accuracy: 0.6290\n",
            "Epoch 205/500\n",
            "157/157 [==============================] - 1s 5ms/step - loss: 0.1868 - accuracy: 0.9338 - val_loss: 1.7612 - val_accuracy: 0.6160\n",
            "Epoch 206/500\n",
            "157/157 [==============================] - 1s 5ms/step - loss: 0.1740 - accuracy: 0.9384 - val_loss: 1.7030 - val_accuracy: 0.6260\n",
            "Epoch 207/500\n",
            "157/157 [==============================] - 1s 5ms/step - loss: 0.1797 - accuracy: 0.9372 - val_loss: 1.7642 - val_accuracy: 0.6140\n",
            "Epoch 208/500\n",
            "157/157 [==============================] - 1s 5ms/step - loss: 0.1993 - accuracy: 0.9328 - val_loss: 1.7014 - val_accuracy: 0.6160\n",
            "Epoch 209/500\n",
            "157/157 [==============================] - 1s 5ms/step - loss: 0.1800 - accuracy: 0.9390 - val_loss: 1.7273 - val_accuracy: 0.6190\n",
            "Epoch 210/500\n",
            "157/157 [==============================] - 1s 5ms/step - loss: 0.1982 - accuracy: 0.9340 - val_loss: 1.7247 - val_accuracy: 0.6310\n",
            "Epoch 211/500\n",
            "157/157 [==============================] - 1s 5ms/step - loss: 0.1848 - accuracy: 0.9368 - val_loss: 1.7665 - val_accuracy: 0.6140\n",
            "Epoch 212/500\n",
            "157/157 [==============================] - 1s 5ms/step - loss: 0.2050 - accuracy: 0.9278 - val_loss: 1.7800 - val_accuracy: 0.6220\n",
            "Epoch 213/500\n",
            "157/157 [==============================] - 1s 5ms/step - loss: 0.1927 - accuracy: 0.9324 - val_loss: 1.7497 - val_accuracy: 0.6120\n",
            "Epoch 214/500\n",
            "157/157 [==============================] - 1s 5ms/step - loss: 0.1787 - accuracy: 0.9326 - val_loss: 1.7635 - val_accuracy: 0.6280\n",
            "Epoch 215/500\n",
            "157/157 [==============================] - 1s 5ms/step - loss: 0.1929 - accuracy: 0.9306 - val_loss: 1.7598 - val_accuracy: 0.6260\n",
            "Epoch 216/500\n",
            "157/157 [==============================] - 1s 5ms/step - loss: 0.1828 - accuracy: 0.9398 - val_loss: 1.7404 - val_accuracy: 0.6240\n",
            "Epoch 217/500\n",
            "157/157 [==============================] - 1s 5ms/step - loss: 0.1878 - accuracy: 0.9392 - val_loss: 1.8103 - val_accuracy: 0.6200\n",
            "Epoch 218/500\n",
            "157/157 [==============================] - 1s 5ms/step - loss: 0.1720 - accuracy: 0.9446 - val_loss: 1.7790 - val_accuracy: 0.6360\n",
            "Epoch 219/500\n",
            "157/157 [==============================] - 1s 5ms/step - loss: 0.1788 - accuracy: 0.9366 - val_loss: 1.7594 - val_accuracy: 0.6240\n",
            "Epoch 220/500\n",
            "157/157 [==============================] - 1s 5ms/step - loss: 0.1661 - accuracy: 0.9474 - val_loss: 1.7630 - val_accuracy: 0.6320\n",
            "Epoch 221/500\n",
            "157/157 [==============================] - 1s 5ms/step - loss: 0.1864 - accuracy: 0.9312 - val_loss: 1.7381 - val_accuracy: 0.6220\n",
            "Epoch 222/500\n",
            "157/157 [==============================] - 1s 5ms/step - loss: 0.1950 - accuracy: 0.9372 - val_loss: 1.7541 - val_accuracy: 0.6300\n",
            "Epoch 223/500\n",
            "157/157 [==============================] - 1s 5ms/step - loss: 0.1594 - accuracy: 0.9434 - val_loss: 1.9317 - val_accuracy: 0.6140\n",
            "Epoch 224/500\n",
            "157/157 [==============================] - 1s 5ms/step - loss: 0.1681 - accuracy: 0.9420 - val_loss: 1.8932 - val_accuracy: 0.6200\n",
            "Epoch 225/500\n",
            "157/157 [==============================] - 1s 5ms/step - loss: 0.1730 - accuracy: 0.9394 - val_loss: 1.9479 - val_accuracy: 0.6260\n",
            "Epoch 226/500\n",
            "157/157 [==============================] - 1s 5ms/step - loss: 0.1700 - accuracy: 0.9390 - val_loss: 1.8691 - val_accuracy: 0.6200\n",
            "Epoch 227/500\n",
            "157/157 [==============================] - 1s 5ms/step - loss: 0.1913 - accuracy: 0.9372 - val_loss: 1.7232 - val_accuracy: 0.6350\n",
            "Epoch 228/500\n",
            "157/157 [==============================] - 1s 5ms/step - loss: 0.1926 - accuracy: 0.9354 - val_loss: 1.8478 - val_accuracy: 0.6180\n",
            "Epoch 229/500\n",
            "157/157 [==============================] - 1s 5ms/step - loss: 0.1975 - accuracy: 0.9314 - val_loss: 1.8316 - val_accuracy: 0.6280\n",
            "Epoch 230/500\n",
            "157/157 [==============================] - 1s 5ms/step - loss: 0.1728 - accuracy: 0.9404 - val_loss: 1.8379 - val_accuracy: 0.6230\n",
            "Epoch 231/500\n",
            "157/157 [==============================] - 1s 5ms/step - loss: 0.1909 - accuracy: 0.9336 - val_loss: 1.6971 - val_accuracy: 0.6250\n",
            "Epoch 232/500\n",
            "157/157 [==============================] - 1s 5ms/step - loss: 0.1998 - accuracy: 0.9342 - val_loss: 1.7112 - val_accuracy: 0.6210\n",
            "Epoch 233/500\n",
            "157/157 [==============================] - 1s 5ms/step - loss: 0.1982 - accuracy: 0.9352 - val_loss: 1.8481 - val_accuracy: 0.6020\n",
            "Epoch 234/500\n",
            "157/157 [==============================] - 1s 5ms/step - loss: 0.1859 - accuracy: 0.9316 - val_loss: 1.7782 - val_accuracy: 0.6090\n",
            "Epoch 235/500\n",
            "157/157 [==============================] - 1s 5ms/step - loss: 0.1894 - accuracy: 0.9374 - val_loss: 1.8328 - val_accuracy: 0.6120\n",
            "Epoch 236/500\n",
            "157/157 [==============================] - 1s 5ms/step - loss: 0.1854 - accuracy: 0.9376 - val_loss: 1.7984 - val_accuracy: 0.6350\n",
            "Epoch 237/500\n",
            "157/157 [==============================] - 1s 5ms/step - loss: 0.1833 - accuracy: 0.9360 - val_loss: 1.7466 - val_accuracy: 0.6270\n",
            "Epoch 238/500\n",
            "157/157 [==============================] - 1s 5ms/step - loss: 0.1941 - accuracy: 0.9358 - val_loss: 1.7627 - val_accuracy: 0.6390\n",
            "Epoch 239/500\n",
            "157/157 [==============================] - 1s 5ms/step - loss: 0.1861 - accuracy: 0.9392 - val_loss: 1.6709 - val_accuracy: 0.6580\n",
            "Epoch 240/500\n",
            "157/157 [==============================] - 1s 5ms/step - loss: 0.1711 - accuracy: 0.9394 - val_loss: 1.7585 - val_accuracy: 0.6320\n",
            "Epoch 241/500\n",
            "157/157 [==============================] - 1s 5ms/step - loss: 0.1735 - accuracy: 0.9400 - val_loss: 1.7082 - val_accuracy: 0.6290\n",
            "Epoch 242/500\n",
            "157/157 [==============================] - 1s 5ms/step - loss: 0.1758 - accuracy: 0.9398 - val_loss: 1.7892 - val_accuracy: 0.6370\n",
            "Epoch 243/500\n",
            "157/157 [==============================] - 1s 5ms/step - loss: 0.1832 - accuracy: 0.9376 - val_loss: 1.7224 - val_accuracy: 0.6470\n",
            "Epoch 244/500\n",
            "157/157 [==============================] - 1s 5ms/step - loss: 0.1732 - accuracy: 0.9418 - val_loss: 1.7240 - val_accuracy: 0.6410\n",
            "Epoch 245/500\n",
            "157/157 [==============================] - 1s 5ms/step - loss: 0.1760 - accuracy: 0.9404 - val_loss: 1.8232 - val_accuracy: 0.6130\n",
            "Epoch 246/500\n",
            "157/157 [==============================] - 1s 5ms/step - loss: 0.1609 - accuracy: 0.9448 - val_loss: 1.7628 - val_accuracy: 0.6260\n",
            "Epoch 247/500\n",
            "157/157 [==============================] - 1s 5ms/step - loss: 0.1590 - accuracy: 0.9444 - val_loss: 1.8367 - val_accuracy: 0.6150\n",
            "Epoch 248/500\n",
            "157/157 [==============================] - 1s 5ms/step - loss: 0.1715 - accuracy: 0.9422 - val_loss: 1.8362 - val_accuracy: 0.6320\n",
            "Epoch 249/500\n",
            "157/157 [==============================] - 1s 5ms/step - loss: 0.1688 - accuracy: 0.9402 - val_loss: 1.8443 - val_accuracy: 0.6320\n",
            "Epoch 250/500\n",
            "157/157 [==============================] - 1s 5ms/step - loss: 0.2072 - accuracy: 0.9306 - val_loss: 1.7262 - val_accuracy: 0.6410\n",
            "Epoch 251/500\n",
            "157/157 [==============================] - 1s 5ms/step - loss: 0.1856 - accuracy: 0.9382 - val_loss: 1.8602 - val_accuracy: 0.6260\n",
            "Epoch 252/500\n",
            "157/157 [==============================] - 1s 5ms/step - loss: 0.1658 - accuracy: 0.9420 - val_loss: 1.9228 - val_accuracy: 0.6280\n",
            "Epoch 253/500\n",
            "157/157 [==============================] - 1s 5ms/step - loss: 0.1748 - accuracy: 0.9396 - val_loss: 1.8537 - val_accuracy: 0.6220\n",
            "Epoch 254/500\n",
            "157/157 [==============================] - 1s 5ms/step - loss: 0.1773 - accuracy: 0.9354 - val_loss: 1.9856 - val_accuracy: 0.6110\n",
            "Epoch 255/500\n",
            "157/157 [==============================] - 1s 5ms/step - loss: 0.1870 - accuracy: 0.9368 - val_loss: 1.7470 - val_accuracy: 0.6220\n",
            "Epoch 256/500\n",
            "157/157 [==============================] - 1s 5ms/step - loss: 0.1958 - accuracy: 0.9344 - val_loss: 1.7096 - val_accuracy: 0.6160\n",
            "Epoch 257/500\n",
            "157/157 [==============================] - 1s 5ms/step - loss: 0.1822 - accuracy: 0.9368 - val_loss: 1.9241 - val_accuracy: 0.6260\n",
            "Epoch 258/500\n",
            "157/157 [==============================] - 1s 5ms/step - loss: 0.1775 - accuracy: 0.9396 - val_loss: 1.8226 - val_accuracy: 0.6320\n",
            "Epoch 259/500\n",
            "157/157 [==============================] - 1s 5ms/step - loss: 0.1795 - accuracy: 0.9356 - val_loss: 1.8081 - val_accuracy: 0.6200\n",
            "Epoch 260/500\n",
            "157/157 [==============================] - 1s 5ms/step - loss: 0.1845 - accuracy: 0.9374 - val_loss: 1.8669 - val_accuracy: 0.6250\n",
            "Epoch 261/500\n",
            "157/157 [==============================] - 1s 5ms/step - loss: 0.2026 - accuracy: 0.9248 - val_loss: 1.6869 - val_accuracy: 0.6430\n",
            "Epoch 262/500\n",
            "157/157 [==============================] - 1s 5ms/step - loss: 0.1740 - accuracy: 0.9388 - val_loss: 1.7457 - val_accuracy: 0.6280\n",
            "Epoch 263/500\n",
            "157/157 [==============================] - 1s 5ms/step - loss: 0.1688 - accuracy: 0.9428 - val_loss: 1.8615 - val_accuracy: 0.6120\n",
            "Epoch 264/500\n",
            "157/157 [==============================] - 1s 5ms/step - loss: 0.1609 - accuracy: 0.9412 - val_loss: 1.9132 - val_accuracy: 0.6330\n",
            "Epoch 265/500\n",
            "157/157 [==============================] - 1s 5ms/step - loss: 0.1474 - accuracy: 0.9470 - val_loss: 1.8679 - val_accuracy: 0.6300\n",
            "Epoch 266/500\n",
            "157/157 [==============================] - 1s 5ms/step - loss: 0.1703 - accuracy: 0.9400 - val_loss: 1.9337 - val_accuracy: 0.6470\n",
            "Epoch 267/500\n",
            "157/157 [==============================] - 1s 5ms/step - loss: 0.1650 - accuracy: 0.9446 - val_loss: 1.8828 - val_accuracy: 0.6250\n",
            "Epoch 268/500\n",
            "157/157 [==============================] - 1s 5ms/step - loss: 0.1619 - accuracy: 0.9470 - val_loss: 1.8980 - val_accuracy: 0.6240\n",
            "Epoch 269/500\n",
            "157/157 [==============================] - 1s 5ms/step - loss: 0.1629 - accuracy: 0.9436 - val_loss: 1.8155 - val_accuracy: 0.6340\n",
            "Epoch 270/500\n",
            "157/157 [==============================] - 1s 5ms/step - loss: 0.1681 - accuracy: 0.9448 - val_loss: 1.7970 - val_accuracy: 0.6220\n",
            "Epoch 271/500\n",
            "157/157 [==============================] - 1s 5ms/step - loss: 0.1796 - accuracy: 0.9398 - val_loss: 1.9899 - val_accuracy: 0.6010\n",
            "Epoch 272/500\n",
            "157/157 [==============================] - 1s 5ms/step - loss: 0.1849 - accuracy: 0.9376 - val_loss: 1.7974 - val_accuracy: 0.6220\n",
            "Epoch 273/500\n",
            "157/157 [==============================] - 1s 5ms/step - loss: 0.1856 - accuracy: 0.9364 - val_loss: 1.8075 - val_accuracy: 0.6210\n",
            "Epoch 274/500\n",
            "157/157 [==============================] - 1s 5ms/step - loss: 0.1708 - accuracy: 0.9404 - val_loss: 1.8479 - val_accuracy: 0.6250\n",
            "Epoch 275/500\n",
            "157/157 [==============================] - 1s 5ms/step - loss: 0.1874 - accuracy: 0.9400 - val_loss: 1.7221 - val_accuracy: 0.6340\n",
            "Epoch 276/500\n",
            "157/157 [==============================] - 1s 5ms/step - loss: 0.1997 - accuracy: 0.9334 - val_loss: 1.8092 - val_accuracy: 0.6180\n",
            "Epoch 277/500\n",
            "157/157 [==============================] - 1s 5ms/step - loss: 0.1799 - accuracy: 0.9374 - val_loss: 1.7590 - val_accuracy: 0.6290\n",
            "Epoch 278/500\n",
            "157/157 [==============================] - 1s 5ms/step - loss: 0.1859 - accuracy: 0.9372 - val_loss: 1.9228 - val_accuracy: 0.6280\n",
            "Epoch 279/500\n",
            "157/157 [==============================] - 1s 5ms/step - loss: 0.1754 - accuracy: 0.9396 - val_loss: 1.9519 - val_accuracy: 0.6020\n",
            "Epoch 280/500\n",
            "157/157 [==============================] - 1s 5ms/step - loss: 0.1810 - accuracy: 0.9402 - val_loss: 1.8318 - val_accuracy: 0.6190\n",
            "Epoch 281/500\n",
            "157/157 [==============================] - 1s 5ms/step - loss: 0.1726 - accuracy: 0.9402 - val_loss: 1.8013 - val_accuracy: 0.6100\n",
            "Epoch 282/500\n",
            "157/157 [==============================] - 1s 5ms/step - loss: 0.1655 - accuracy: 0.9420 - val_loss: 1.9318 - val_accuracy: 0.6270\n",
            "Epoch 283/500\n",
            "157/157 [==============================] - 1s 5ms/step - loss: 0.1707 - accuracy: 0.9438 - val_loss: 1.9411 - val_accuracy: 0.6120\n",
            "Epoch 284/500\n",
            "157/157 [==============================] - 1s 5ms/step - loss: 0.1576 - accuracy: 0.9454 - val_loss: 1.9673 - val_accuracy: 0.6090\n",
            "Epoch 285/500\n",
            "157/157 [==============================] - 1s 5ms/step - loss: 0.1700 - accuracy: 0.9454 - val_loss: 1.9121 - val_accuracy: 0.6120\n",
            "Epoch 286/500\n",
            "157/157 [==============================] - 1s 5ms/step - loss: 0.1724 - accuracy: 0.9456 - val_loss: 1.8004 - val_accuracy: 0.6000\n",
            "Epoch 287/500\n",
            "157/157 [==============================] - 1s 5ms/step - loss: 0.1781 - accuracy: 0.9380 - val_loss: 1.8413 - val_accuracy: 0.6200\n",
            "Epoch 288/500\n",
            "157/157 [==============================] - 1s 5ms/step - loss: 0.1675 - accuracy: 0.9426 - val_loss: 1.8797 - val_accuracy: 0.6180\n",
            "Epoch 289/500\n",
            "157/157 [==============================] - 1s 5ms/step - loss: 0.1522 - accuracy: 0.9452 - val_loss: 1.9037 - val_accuracy: 0.6130\n",
            "Epoch 290/500\n",
            "157/157 [==============================] - 1s 5ms/step - loss: 0.1770 - accuracy: 0.9386 - val_loss: 1.8539 - val_accuracy: 0.6130\n",
            "Epoch 291/500\n",
            "157/157 [==============================] - 1s 5ms/step - loss: 0.1579 - accuracy: 0.9466 - val_loss: 1.8473 - val_accuracy: 0.6260\n",
            "Epoch 292/500\n",
            "157/157 [==============================] - 1s 5ms/step - loss: 0.1643 - accuracy: 0.9438 - val_loss: 1.7701 - val_accuracy: 0.6000\n",
            "Epoch 293/500\n",
            "157/157 [==============================] - 1s 5ms/step - loss: 0.1629 - accuracy: 0.9450 - val_loss: 1.8429 - val_accuracy: 0.6280\n",
            "Epoch 294/500\n",
            "157/157 [==============================] - 1s 5ms/step - loss: 0.1623 - accuracy: 0.9458 - val_loss: 1.8428 - val_accuracy: 0.6040\n",
            "Epoch 295/500\n",
            "157/157 [==============================] - 1s 5ms/step - loss: 0.1798 - accuracy: 0.9376 - val_loss: 1.7707 - val_accuracy: 0.6260\n",
            "Epoch 296/500\n",
            "157/157 [==============================] - 1s 5ms/step - loss: 0.1627 - accuracy: 0.9422 - val_loss: 1.7947 - val_accuracy: 0.6370\n",
            "Epoch 297/500\n",
            "157/157 [==============================] - 1s 5ms/step - loss: 0.1742 - accuracy: 0.9392 - val_loss: 1.8653 - val_accuracy: 0.6180\n",
            "Epoch 298/500\n",
            "157/157 [==============================] - 1s 5ms/step - loss: 0.1608 - accuracy: 0.9486 - val_loss: 1.8247 - val_accuracy: 0.6310\n",
            "Epoch 299/500\n",
            "157/157 [==============================] - 1s 5ms/step - loss: 0.1600 - accuracy: 0.9504 - val_loss: 1.8495 - val_accuracy: 0.6220\n",
            "Epoch 300/500\n",
            "157/157 [==============================] - 1s 5ms/step - loss: 0.1737 - accuracy: 0.9432 - val_loss: 1.8149 - val_accuracy: 0.6280\n",
            "Epoch 301/500\n",
            "157/157 [==============================] - 1s 5ms/step - loss: 0.1764 - accuracy: 0.9390 - val_loss: 1.8243 - val_accuracy: 0.6310\n",
            "Epoch 302/500\n",
            "157/157 [==============================] - 1s 5ms/step - loss: 0.1439 - accuracy: 0.9544 - val_loss: 1.9257 - val_accuracy: 0.6280\n",
            "Epoch 303/500\n",
            "157/157 [==============================] - 1s 5ms/step - loss: 0.1879 - accuracy: 0.9350 - val_loss: 1.8220 - val_accuracy: 0.6330\n",
            "Epoch 304/500\n",
            "157/157 [==============================] - 1s 5ms/step - loss: 0.1584 - accuracy: 0.9444 - val_loss: 1.8855 - val_accuracy: 0.6240\n",
            "Epoch 305/500\n",
            "157/157 [==============================] - 1s 5ms/step - loss: 0.1522 - accuracy: 0.9492 - val_loss: 1.9699 - val_accuracy: 0.6160\n",
            "Epoch 306/500\n",
            "157/157 [==============================] - 1s 5ms/step - loss: 0.1631 - accuracy: 0.9464 - val_loss: 1.9427 - val_accuracy: 0.6170\n",
            "Epoch 307/500\n",
            "157/157 [==============================] - 1s 5ms/step - loss: 0.1627 - accuracy: 0.9450 - val_loss: 1.8287 - val_accuracy: 0.6300\n",
            "Epoch 308/500\n",
            "157/157 [==============================] - 1s 5ms/step - loss: 0.1795 - accuracy: 0.9412 - val_loss: 1.7938 - val_accuracy: 0.6380\n",
            "Epoch 309/500\n",
            "157/157 [==============================] - 1s 5ms/step - loss: 0.1691 - accuracy: 0.9430 - val_loss: 1.8638 - val_accuracy: 0.6130\n",
            "Epoch 310/500\n",
            "157/157 [==============================] - 1s 5ms/step - loss: 0.1769 - accuracy: 0.9378 - val_loss: 1.8037 - val_accuracy: 0.6290\n",
            "Epoch 311/500\n",
            "157/157 [==============================] - 1s 5ms/step - loss: 0.1722 - accuracy: 0.9426 - val_loss: 1.7354 - val_accuracy: 0.6260\n",
            "Epoch 312/500\n",
            "157/157 [==============================] - 1s 5ms/step - loss: 0.1711 - accuracy: 0.9454 - val_loss: 1.7473 - val_accuracy: 0.6280\n",
            "Epoch 313/500\n",
            "157/157 [==============================] - 1s 5ms/step - loss: 0.1586 - accuracy: 0.9470 - val_loss: 1.8572 - val_accuracy: 0.6250\n",
            "Epoch 314/500\n",
            "157/157 [==============================] - 1s 5ms/step - loss: 0.1655 - accuracy: 0.9420 - val_loss: 1.7827 - val_accuracy: 0.6210\n",
            "Epoch 315/500\n",
            "157/157 [==============================] - 1s 5ms/step - loss: 0.1652 - accuracy: 0.9450 - val_loss: 1.8113 - val_accuracy: 0.6240\n",
            "Epoch 316/500\n",
            "157/157 [==============================] - 1s 5ms/step - loss: 0.1644 - accuracy: 0.9468 - val_loss: 1.8346 - val_accuracy: 0.6070\n",
            "Epoch 317/500\n",
            "157/157 [==============================] - 1s 5ms/step - loss: 0.1633 - accuracy: 0.9498 - val_loss: 1.7344 - val_accuracy: 0.6300\n",
            "Epoch 318/500\n",
            "157/157 [==============================] - 1s 5ms/step - loss: 0.1552 - accuracy: 0.9496 - val_loss: 1.7906 - val_accuracy: 0.6280\n",
            "Epoch 319/500\n",
            "157/157 [==============================] - 1s 5ms/step - loss: 0.1702 - accuracy: 0.9404 - val_loss: 1.9215 - val_accuracy: 0.6150\n",
            "Epoch 320/500\n",
            "157/157 [==============================] - 1s 5ms/step - loss: 0.1600 - accuracy: 0.9452 - val_loss: 1.9045 - val_accuracy: 0.6330\n",
            "Epoch 321/500\n",
            "157/157 [==============================] - 1s 5ms/step - loss: 0.1549 - accuracy: 0.9484 - val_loss: 1.8507 - val_accuracy: 0.6350\n",
            "Epoch 322/500\n",
            "157/157 [==============================] - 1s 5ms/step - loss: 0.1575 - accuracy: 0.9432 - val_loss: 1.8741 - val_accuracy: 0.6220\n",
            "Epoch 323/500\n",
            "157/157 [==============================] - 1s 5ms/step - loss: 0.1801 - accuracy: 0.9408 - val_loss: 1.8546 - val_accuracy: 0.6150\n",
            "Epoch 324/500\n",
            " 60/157 [==========>...................] - ETA: 0s - loss: 0.1365 - accuracy: 0.9490"
          ],
          "name": "stdout"
        },
        {
          "output_type": "error",
          "ename": "KeyboardInterrupt",
          "evalue": "ignored",
          "traceback": [
            "\u001b[0;31m---------------------------------------------------------------------------\u001b[0m",
            "\u001b[0;31mKeyboardInterrupt\u001b[0m                         Traceback (most recent call last)",
            "\u001b[0;32m<ipython-input-26-679a9b0eec95>\u001b[0m in \u001b[0;36m<module>\u001b[0;34m()\u001b[0m\n\u001b[0;32m----> 1\u001b[0;31m \u001b[0mhistory\u001b[0m \u001b[0;34m=\u001b[0m \u001b[0mmodel\u001b[0m\u001b[0;34m.\u001b[0m\u001b[0mfit\u001b[0m\u001b[0;34m(\u001b[0m\u001b[0mX_train_small\u001b[0m\u001b[0;34m,\u001b[0m \u001b[0my_train_small\u001b[0m\u001b[0;34m,\u001b[0m \u001b[0mvalidation_data\u001b[0m \u001b[0;34m=\u001b[0m \u001b[0;34m(\u001b[0m\u001b[0mX_test_small\u001b[0m\u001b[0;34m,\u001b[0m \u001b[0my_test_small\u001b[0m\u001b[0;34m)\u001b[0m\u001b[0;34m,\u001b[0m \u001b[0mepochs\u001b[0m \u001b[0;34m=\u001b[0m \u001b[0;36m500\u001b[0m\u001b[0;34m,\u001b[0m \u001b[0mbatch_size\u001b[0m \u001b[0;34m=\u001b[0m \u001b[0;36m32\u001b[0m\u001b[0;34m,\u001b[0m \u001b[0mverbose\u001b[0m \u001b[0;34m=\u001b[0m \u001b[0;36m1\u001b[0m\u001b[0;34m)\u001b[0m\u001b[0;34m\u001b[0m\u001b[0;34m\u001b[0m\u001b[0m\n\u001b[0m",
            "\u001b[0;32m/usr/local/lib/python3.7/dist-packages/tensorflow/python/keras/engine/training.py\u001b[0m in \u001b[0;36mfit\u001b[0;34m(self, x, y, batch_size, epochs, verbose, callbacks, validation_split, validation_data, shuffle, class_weight, sample_weight, initial_epoch, steps_per_epoch, validation_steps, validation_batch_size, validation_freq, max_queue_size, workers, use_multiprocessing)\u001b[0m\n\u001b[1;32m   1098\u001b[0m                 _r=1):\n\u001b[1;32m   1099\u001b[0m               \u001b[0mcallbacks\u001b[0m\u001b[0;34m.\u001b[0m\u001b[0mon_train_batch_begin\u001b[0m\u001b[0;34m(\u001b[0m\u001b[0mstep\u001b[0m\u001b[0;34m)\u001b[0m\u001b[0;34m\u001b[0m\u001b[0;34m\u001b[0m\u001b[0m\n\u001b[0;32m-> 1100\u001b[0;31m               \u001b[0mtmp_logs\u001b[0m \u001b[0;34m=\u001b[0m \u001b[0mself\u001b[0m\u001b[0;34m.\u001b[0m\u001b[0mtrain_function\u001b[0m\u001b[0;34m(\u001b[0m\u001b[0miterator\u001b[0m\u001b[0;34m)\u001b[0m\u001b[0;34m\u001b[0m\u001b[0;34m\u001b[0m\u001b[0m\n\u001b[0m\u001b[1;32m   1101\u001b[0m               \u001b[0;32mif\u001b[0m \u001b[0mdata_handler\u001b[0m\u001b[0;34m.\u001b[0m\u001b[0mshould_sync\u001b[0m\u001b[0;34m:\u001b[0m\u001b[0;34m\u001b[0m\u001b[0;34m\u001b[0m\u001b[0m\n\u001b[1;32m   1102\u001b[0m                 \u001b[0mcontext\u001b[0m\u001b[0;34m.\u001b[0m\u001b[0masync_wait\u001b[0m\u001b[0;34m(\u001b[0m\u001b[0;34m)\u001b[0m\u001b[0;34m\u001b[0m\u001b[0;34m\u001b[0m\u001b[0m\n",
            "\u001b[0;32m/usr/local/lib/python3.7/dist-packages/tensorflow/python/eager/def_function.py\u001b[0m in \u001b[0;36m__call__\u001b[0;34m(self, *args, **kwds)\u001b[0m\n\u001b[1;32m    826\u001b[0m     \u001b[0mtracing_count\u001b[0m \u001b[0;34m=\u001b[0m \u001b[0mself\u001b[0m\u001b[0;34m.\u001b[0m\u001b[0mexperimental_get_tracing_count\u001b[0m\u001b[0;34m(\u001b[0m\u001b[0;34m)\u001b[0m\u001b[0;34m\u001b[0m\u001b[0;34m\u001b[0m\u001b[0m\n\u001b[1;32m    827\u001b[0m     \u001b[0;32mwith\u001b[0m \u001b[0mtrace\u001b[0m\u001b[0;34m.\u001b[0m\u001b[0mTrace\u001b[0m\u001b[0;34m(\u001b[0m\u001b[0mself\u001b[0m\u001b[0;34m.\u001b[0m\u001b[0m_name\u001b[0m\u001b[0;34m)\u001b[0m \u001b[0;32mas\u001b[0m \u001b[0mtm\u001b[0m\u001b[0;34m:\u001b[0m\u001b[0;34m\u001b[0m\u001b[0;34m\u001b[0m\u001b[0m\n\u001b[0;32m--> 828\u001b[0;31m       \u001b[0mresult\u001b[0m \u001b[0;34m=\u001b[0m \u001b[0mself\u001b[0m\u001b[0;34m.\u001b[0m\u001b[0m_call\u001b[0m\u001b[0;34m(\u001b[0m\u001b[0;34m*\u001b[0m\u001b[0margs\u001b[0m\u001b[0;34m,\u001b[0m \u001b[0;34m**\u001b[0m\u001b[0mkwds\u001b[0m\u001b[0;34m)\u001b[0m\u001b[0;34m\u001b[0m\u001b[0;34m\u001b[0m\u001b[0m\n\u001b[0m\u001b[1;32m    829\u001b[0m       \u001b[0mcompiler\u001b[0m \u001b[0;34m=\u001b[0m \u001b[0;34m\"xla\"\u001b[0m \u001b[0;32mif\u001b[0m \u001b[0mself\u001b[0m\u001b[0;34m.\u001b[0m\u001b[0m_experimental_compile\u001b[0m \u001b[0;32melse\u001b[0m \u001b[0;34m\"nonXla\"\u001b[0m\u001b[0;34m\u001b[0m\u001b[0;34m\u001b[0m\u001b[0m\n\u001b[1;32m    830\u001b[0m       \u001b[0mnew_tracing_count\u001b[0m \u001b[0;34m=\u001b[0m \u001b[0mself\u001b[0m\u001b[0;34m.\u001b[0m\u001b[0mexperimental_get_tracing_count\u001b[0m\u001b[0;34m(\u001b[0m\u001b[0;34m)\u001b[0m\u001b[0;34m\u001b[0m\u001b[0;34m\u001b[0m\u001b[0m\n",
            "\u001b[0;32m/usr/local/lib/python3.7/dist-packages/tensorflow/python/eager/def_function.py\u001b[0m in \u001b[0;36m_call\u001b[0;34m(self, *args, **kwds)\u001b[0m\n\u001b[1;32m    853\u001b[0m       \u001b[0;31m# In this case we have created variables on the first call, so we run the\u001b[0m\u001b[0;34m\u001b[0m\u001b[0;34m\u001b[0m\u001b[0;34m\u001b[0m\u001b[0m\n\u001b[1;32m    854\u001b[0m       \u001b[0;31m# defunned version which is guaranteed to never create variables.\u001b[0m\u001b[0;34m\u001b[0m\u001b[0;34m\u001b[0m\u001b[0;34m\u001b[0m\u001b[0m\n\u001b[0;32m--> 855\u001b[0;31m       \u001b[0;32mreturn\u001b[0m \u001b[0mself\u001b[0m\u001b[0;34m.\u001b[0m\u001b[0m_stateless_fn\u001b[0m\u001b[0;34m(\u001b[0m\u001b[0;34m*\u001b[0m\u001b[0margs\u001b[0m\u001b[0;34m,\u001b[0m \u001b[0;34m**\u001b[0m\u001b[0mkwds\u001b[0m\u001b[0;34m)\u001b[0m  \u001b[0;31m# pylint: disable=not-callable\u001b[0m\u001b[0;34m\u001b[0m\u001b[0;34m\u001b[0m\u001b[0m\n\u001b[0m\u001b[1;32m    856\u001b[0m     \u001b[0;32melif\u001b[0m \u001b[0mself\u001b[0m\u001b[0;34m.\u001b[0m\u001b[0m_stateful_fn\u001b[0m \u001b[0;32mis\u001b[0m \u001b[0;32mnot\u001b[0m \u001b[0;32mNone\u001b[0m\u001b[0;34m:\u001b[0m\u001b[0;34m\u001b[0m\u001b[0;34m\u001b[0m\u001b[0m\n\u001b[1;32m    857\u001b[0m       \u001b[0;31m# Release the lock early so that multiple threads can perform the call\u001b[0m\u001b[0;34m\u001b[0m\u001b[0;34m\u001b[0m\u001b[0;34m\u001b[0m\u001b[0m\n",
            "\u001b[0;32m/usr/local/lib/python3.7/dist-packages/tensorflow/python/eager/function.py\u001b[0m in \u001b[0;36m__call__\u001b[0;34m(self, *args, **kwargs)\u001b[0m\n\u001b[1;32m   2941\u001b[0m        filtered_flat_args) = self._maybe_define_function(args, kwargs)\n\u001b[1;32m   2942\u001b[0m     return graph_function._call_flat(\n\u001b[0;32m-> 2943\u001b[0;31m         filtered_flat_args, captured_inputs=graph_function.captured_inputs)  # pylint: disable=protected-access\n\u001b[0m\u001b[1;32m   2944\u001b[0m \u001b[0;34m\u001b[0m\u001b[0m\n\u001b[1;32m   2945\u001b[0m   \u001b[0;34m@\u001b[0m\u001b[0mproperty\u001b[0m\u001b[0;34m\u001b[0m\u001b[0;34m\u001b[0m\u001b[0m\n",
            "\u001b[0;32m/usr/local/lib/python3.7/dist-packages/tensorflow/python/eager/function.py\u001b[0m in \u001b[0;36m_call_flat\u001b[0;34m(self, args, captured_inputs, cancellation_manager)\u001b[0m\n\u001b[1;32m   1917\u001b[0m       \u001b[0;31m# No tape is watching; skip to running the function.\u001b[0m\u001b[0;34m\u001b[0m\u001b[0;34m\u001b[0m\u001b[0;34m\u001b[0m\u001b[0m\n\u001b[1;32m   1918\u001b[0m       return self._build_call_outputs(self._inference_function.call(\n\u001b[0;32m-> 1919\u001b[0;31m           ctx, args, cancellation_manager=cancellation_manager))\n\u001b[0m\u001b[1;32m   1920\u001b[0m     forward_backward = self._select_forward_and_backward_functions(\n\u001b[1;32m   1921\u001b[0m         \u001b[0margs\u001b[0m\u001b[0;34m,\u001b[0m\u001b[0;34m\u001b[0m\u001b[0;34m\u001b[0m\u001b[0m\n",
            "\u001b[0;32m/usr/local/lib/python3.7/dist-packages/tensorflow/python/eager/function.py\u001b[0m in \u001b[0;36mcall\u001b[0;34m(self, ctx, args, cancellation_manager)\u001b[0m\n\u001b[1;32m    558\u001b[0m               \u001b[0minputs\u001b[0m\u001b[0;34m=\u001b[0m\u001b[0margs\u001b[0m\u001b[0;34m,\u001b[0m\u001b[0;34m\u001b[0m\u001b[0;34m\u001b[0m\u001b[0m\n\u001b[1;32m    559\u001b[0m               \u001b[0mattrs\u001b[0m\u001b[0;34m=\u001b[0m\u001b[0mattrs\u001b[0m\u001b[0;34m,\u001b[0m\u001b[0;34m\u001b[0m\u001b[0;34m\u001b[0m\u001b[0m\n\u001b[0;32m--> 560\u001b[0;31m               ctx=ctx)\n\u001b[0m\u001b[1;32m    561\u001b[0m         \u001b[0;32melse\u001b[0m\u001b[0;34m:\u001b[0m\u001b[0;34m\u001b[0m\u001b[0;34m\u001b[0m\u001b[0m\n\u001b[1;32m    562\u001b[0m           outputs = execute.execute_with_cancellation(\n",
            "\u001b[0;32m/usr/local/lib/python3.7/dist-packages/tensorflow/python/eager/execute.py\u001b[0m in \u001b[0;36mquick_execute\u001b[0;34m(op_name, num_outputs, inputs, attrs, ctx, name)\u001b[0m\n\u001b[1;32m     58\u001b[0m     \u001b[0mctx\u001b[0m\u001b[0;34m.\u001b[0m\u001b[0mensure_initialized\u001b[0m\u001b[0;34m(\u001b[0m\u001b[0;34m)\u001b[0m\u001b[0;34m\u001b[0m\u001b[0;34m\u001b[0m\u001b[0m\n\u001b[1;32m     59\u001b[0m     tensors = pywrap_tfe.TFE_Py_Execute(ctx._handle, device_name, op_name,\n\u001b[0;32m---> 60\u001b[0;31m                                         inputs, attrs, num_outputs)\n\u001b[0m\u001b[1;32m     61\u001b[0m   \u001b[0;32mexcept\u001b[0m \u001b[0mcore\u001b[0m\u001b[0;34m.\u001b[0m\u001b[0m_NotOkStatusException\u001b[0m \u001b[0;32mas\u001b[0m \u001b[0me\u001b[0m\u001b[0;34m:\u001b[0m\u001b[0;34m\u001b[0m\u001b[0;34m\u001b[0m\u001b[0m\n\u001b[1;32m     62\u001b[0m     \u001b[0;32mif\u001b[0m \u001b[0mname\u001b[0m \u001b[0;32mis\u001b[0m \u001b[0;32mnot\u001b[0m \u001b[0;32mNone\u001b[0m\u001b[0;34m:\u001b[0m\u001b[0;34m\u001b[0m\u001b[0;34m\u001b[0m\u001b[0m\n",
            "\u001b[0;31mKeyboardInterrupt\u001b[0m: "
          ]
        }
      ]
    },
    {
      "cell_type": "code",
      "metadata": {
        "colab": {
          "base_uri": "https://localhost:8080/"
        },
        "id": "Dn_9Jj9Sq1fy",
        "outputId": "dabb6ca4-de01-4f14-e482-06ffba8399a3"
      },
      "source": [
        "history.history['loss']"
      ],
      "execution_count": 27,
      "outputs": [
        {
          "output_type": "execute_result",
          "data": {
            "text/plain": [
              "[2.214280366897583,\n",
              " 1.9326070547103882,\n",
              " 1.7934677600860596,\n",
              " 1.6837228536605835,\n",
              " 1.6226603984832764,\n",
              " 1.5715692043304443,\n",
              " 1.534558653831482,\n",
              " 1.4591823816299438,\n",
              " 1.416609525680542,\n",
              " 1.359880805015564,\n",
              " 1.3242580890655518,\n",
              " 1.3046398162841797,\n",
              " 1.255016803741455,\n",
              " 1.2316296100616455,\n",
              " 1.1909394264221191,\n",
              " 1.156951904296875,\n",
              " 1.1394253969192505,\n",
              " 1.0917081832885742,\n",
              " 1.0735435485839844,\n",
              " 1.0456113815307617,\n",
              " 1.0275452136993408,\n",
              " 1.0334696769714355,\n",
              " 0.9844216704368591,\n",
              " 0.9627681374549866,\n",
              " 0.925784170627594,\n",
              " 0.9186210036277771,\n",
              " 0.8945505023002625,\n",
              " 0.8887791037559509,\n",
              " 0.8470569252967834,\n",
              " 0.839529812335968,\n",
              " 0.8395275473594666,\n",
              " 0.7914660573005676,\n",
              " 0.7858813405036926,\n",
              " 0.7683588862419128,\n",
              " 0.7638227343559265,\n",
              " 0.7296891212463379,\n",
              " 0.7292983531951904,\n",
              " 0.7158567309379578,\n",
              " 0.7119841575622559,\n",
              " 0.6955416798591614,\n",
              " 0.6866500973701477,\n",
              " 0.6374523639678955,\n",
              " 0.6450610160827637,\n",
              " 0.6383510231971741,\n",
              " 0.6441854238510132,\n",
              " 0.6398721933364868,\n",
              " 0.6065850257873535,\n",
              " 0.606757402420044,\n",
              " 0.5969477295875549,\n",
              " 0.5752596855163574,\n",
              " 0.551246166229248,\n",
              " 0.5611705183982849,\n",
              " 0.5432460308074951,\n",
              " 0.5534031391143799,\n",
              " 0.5280460715293884,\n",
              " 0.5380669832229614,\n",
              " 0.5275683999061584,\n",
              " 0.5332337617874146,\n",
              " 0.5062560439109802,\n",
              " 0.5168924927711487,\n",
              " 0.5139009952545166,\n",
              " 0.48729613423347473,\n",
              " 0.49444258213043213,\n",
              " 0.4732193350791931,\n",
              " 0.4887543320655823,\n",
              " 0.5036666989326477,\n",
              " 0.46535199880599976,\n",
              " 0.4704287052154541,\n",
              " 0.4548487365245819,\n",
              " 0.45867329835891724,\n",
              " 0.4285936951637268,\n",
              " 0.4367106556892395,\n",
              " 0.44654664397239685,\n",
              " 0.4387248158454895,\n",
              " 0.43932032585144043,\n",
              " 0.43684476613998413,\n",
              " 0.4313849210739136,\n",
              " 0.4098447859287262,\n",
              " 0.4195472300052643,\n",
              " 0.416289359331131,\n",
              " 0.40424710512161255,\n",
              " 0.3940873146057129,\n",
              " 0.41659125685691833,\n",
              " 0.39681702852249146,\n",
              " 0.3867547810077667,\n",
              " 0.3769475817680359,\n",
              " 0.40297409892082214,\n",
              " 0.38884058594703674,\n",
              " 0.3944337069988251,\n",
              " 0.3899967074394226,\n",
              " 0.3810248374938965,\n",
              " 0.3705311417579651,\n",
              " 0.36227428913116455,\n",
              " 0.38983994722366333,\n",
              " 0.38340097665786743,\n",
              " 0.3575594127178192,\n",
              " 0.35918012261390686,\n",
              " 0.35181185603141785,\n",
              " 0.35291755199432373,\n",
              " 0.3574887216091156]"
            ]
          },
          "metadata": {
            "tags": []
          },
          "execution_count": 27
        }
      ]
    },
    {
      "cell_type": "code",
      "metadata": {
        "colab": {
          "base_uri": "https://localhost:8080/"
        },
        "id": "CjYAVEpKsiAk",
        "outputId": "4920b8e7-bf34-43f6-cbcc-70e4e096539c"
      },
      "source": [
        "model.evaluate(X_test_small, y_test_small, batch_size=32, verbose=0)"
      ],
      "execution_count": 28,
      "outputs": [
        {
          "output_type": "execute_result",
          "data": {
            "text/plain": [
              "[1.8800930976867676, 0.6259999871253967]"
            ]
          },
          "metadata": {
            "tags": []
          },
          "execution_count": 28
        }
      ]
    },
    {
      "cell_type": "markdown",
      "metadata": {
        "id": "YcPQtVjdVj06"
      },
      "source": [
        "❓ **Question** ❓ Run the following function on the previous history (keep the default arguments, these are intended for future plots in the notebook)."
      ]
    },
    {
      "cell_type": "code",
      "metadata": {
        "id": "lIR_L7UfVj06"
      },
      "source": [
        "def plot_history(history, title='', axs=None, exp_name=\"\"):\n",
        "    if axs is not None:\n",
        "        ax1, ax2 = axs\n",
        "    else:\n",
        "        f, (ax1, ax2) = plt.subplots(1, 2, figsize=(12, 4))\n",
        "    \n",
        "    if len(exp_name) > 0 and exp_name[0] != '_':\n",
        "        exp_name = '_' + exp_name\n",
        "    ax1.plot(history.history['loss'], label='train' + exp_name)\n",
        "    ax1.plot(history.history['val_loss'], label='val' + exp_name)\n",
        "    ax1.set_ylim(0., 2.2)\n",
        "    ax1.set_title('loss')\n",
        "    ax1.legend()\n",
        "\n",
        "    ax2.plot(history.history['accuracy'], label='train accuracy'  + exp_name)\n",
        "    ax2.plot(history.history['val_accuracy'], label='val accuracy'  + exp_name)\n",
        "    ax2.set_ylim(0.25, 1.)\n",
        "    ax2.set_title('Accuracy')\n",
        "    ax2.legend()\n",
        "    return (ax1, ax2)"
      ],
      "execution_count": 29,
      "outputs": []
    },
    {
      "cell_type": "markdown",
      "metadata": {
        "id": "OR7l9LxMVj07"
      },
      "source": [
        "❓ **Question** ❓ Evaluate your model on the test data and compare it with baseline. Are you satisfied with these performances ? Look at PRO TIPS above and iterate a bit if you want to improve!"
      ]
    },
    {
      "cell_type": "code",
      "metadata": {
        "id": "Q0eVc9CuuwAx"
      },
      "source": [
        "history.history;"
      ],
      "execution_count": 30,
      "outputs": []
    },
    {
      "cell_type": "code",
      "metadata": {
        "colab": {
          "base_uri": "https://localhost:8080/",
          "height": 318
        },
        "id": "WwnwvmV5Vj08",
        "tags": [
          "challengify"
        ],
        "outputId": "febabfed-26ba-425a-fae3-40437895f0d3"
      },
      "source": [
        "plot_history(history, title='', axs=None, exp_name=\"\")"
      ],
      "execution_count": 31,
      "outputs": [
        {
          "output_type": "execute_result",
          "data": {
            "text/plain": [
              "(<matplotlib.axes._subplots.AxesSubplot at 0x7f64b876bb50>,\n",
              " <matplotlib.axes._subplots.AxesSubplot at 0x7f64b870f290>)"
            ]
          },
          "metadata": {
            "tags": []
          },
          "execution_count": 31
        },
        {
          "output_type": "display_data",
          "data": {
            "image/png": "[encoded data removed]",
            "text/plain": [
              "<Figure size 864x288 with 2 Axes>"
            ]
          },
          "metadata": {
            "tags": [],
            "needs_background": "light"
          }
        }
      ]
    },
    {
      "cell_type": "markdown",
      "metadata": {
        "id": "z7P9y-LwVjdx"
      },
      "source": [
        "## 3. Increase data size"
      ]
    },
    {
      "cell_type": "markdown",
      "metadata": {
        "id": "UMHH_qsbVT_0"
      },
      "source": [
        "❓ **Question** ❓ Now that your model fits on a small subsample, try to fit it on the full dataset and notice how performance increases. \n",
        "\n",
        "🚨 **Make sure to use GPU acceleration** by clicking on `\"Runtime --> Change runtime --> GPU\"` if you are on Colab. \n",
        "\n",
        "💡 Training neural network on images (in each batch) can be parallelized, and this parallelization procedure can be done on GPU.\n"
      ]
    },
    {
      "cell_type": "code",
      "metadata": {
        "id": "pWHicYsosW6o",
        "colab": {
          "base_uri": "https://localhost:8080/",
          "height": 1000
        },
        "outputId": "2746d423-6565-4022-9d83-3bedf35b4bb3"
      },
      "source": [
        "history = model.fit(X_train, y_train, validation_data = (X_test, y_test), epochs = 50, batch_size = 32, verbose = 1)"
      ],
      "execution_count": 33,
      "outputs": [
        {
          "output_type": "stream",
          "text": [
            "Epoch 1/50\n",
            "1563/1563 [==============================] - 7s 5ms/step - loss: 1.1152 - accuracy: 0.6168 - val_loss: 0.9572 - val_accuracy: 0.6687\n",
            "Epoch 2/50\n",
            "1563/1563 [==============================] - 7s 4ms/step - loss: 1.0420 - accuracy: 0.6414 - val_loss: 0.9229 - val_accuracy: 0.6842\n",
            "Epoch 3/50\n",
            "1563/1563 [==============================] - 7s 4ms/step - loss: 0.9963 - accuracy: 0.6559 - val_loss: 0.8888 - val_accuracy: 0.6941\n",
            "Epoch 4/50\n",
            "1563/1563 [==============================] - 7s 4ms/step - loss: 0.9642 - accuracy: 0.6691 - val_loss: 0.8687 - val_accuracy: 0.6971\n",
            "Epoch 5/50\n",
            "1563/1563 [==============================] - 7s 4ms/step - loss: 0.9247 - accuracy: 0.6820 - val_loss: 0.8370 - val_accuracy: 0.7157\n",
            "Epoch 6/50\n",
            "1563/1563 [==============================] - 7s 5ms/step - loss: 0.9072 - accuracy: 0.6864 - val_loss: 0.8246 - val_accuracy: 0.7102\n",
            "Epoch 7/50\n",
            "1563/1563 [==============================] - 7s 4ms/step - loss: 0.8906 - accuracy: 0.6901 - val_loss: 0.8082 - val_accuracy: 0.7247\n",
            "Epoch 8/50\n",
            "1563/1563 [==============================] - 7s 5ms/step - loss: 0.8706 - accuracy: 0.6970 - val_loss: 0.8376 - val_accuracy: 0.7101\n",
            "Epoch 9/50\n",
            "1563/1563 [==============================] - 8s 5ms/step - loss: 0.8562 - accuracy: 0.7038 - val_loss: 0.7784 - val_accuracy: 0.7312\n",
            "Epoch 10/50\n",
            "1563/1563 [==============================] - 7s 5ms/step - loss: 0.8397 - accuracy: 0.7083 - val_loss: 0.7615 - val_accuracy: 0.7377\n",
            "Epoch 11/50\n",
            "1563/1563 [==============================] - 7s 5ms/step - loss: 0.8366 - accuracy: 0.7123 - val_loss: 0.7925 - val_accuracy: 0.7314\n",
            "Epoch 12/50\n",
            "1563/1563 [==============================] - 7s 5ms/step - loss: 0.8204 - accuracy: 0.7160 - val_loss: 0.7628 - val_accuracy: 0.7389\n",
            "Epoch 13/50\n",
            "1563/1563 [==============================] - 8s 5ms/step - loss: 0.8088 - accuracy: 0.7179 - val_loss: 0.7672 - val_accuracy: 0.7349\n",
            "Epoch 14/50\n",
            "1563/1563 [==============================] - 7s 5ms/step - loss: 0.7997 - accuracy: 0.7217 - val_loss: 0.7449 - val_accuracy: 0.7459\n",
            "Epoch 15/50\n",
            "1563/1563 [==============================] - 7s 5ms/step - loss: 0.7927 - accuracy: 0.7239 - val_loss: 0.7573 - val_accuracy: 0.7413\n",
            "Epoch 16/50\n",
            "1563/1563 [==============================] - 7s 5ms/step - loss: 0.7870 - accuracy: 0.7236 - val_loss: 0.7631 - val_accuracy: 0.7370\n",
            "Epoch 17/50\n",
            "1563/1563 [==============================] - 7s 5ms/step - loss: 0.7748 - accuracy: 0.7289 - val_loss: 0.7499 - val_accuracy: 0.7401\n",
            "Epoch 18/50\n",
            "1563/1563 [==============================] - 7s 4ms/step - loss: 0.7757 - accuracy: 0.7303 - val_loss: 0.7457 - val_accuracy: 0.7487\n",
            "Epoch 19/50\n",
            "1563/1563 [==============================] - 7s 5ms/step - loss: 0.7611 - accuracy: 0.7359 - val_loss: 0.7493 - val_accuracy: 0.7414\n",
            "Epoch 20/50\n",
            "1563/1563 [==============================] - 7s 5ms/step - loss: 0.7620 - accuracy: 0.7353 - val_loss: 0.7604 - val_accuracy: 0.7401\n",
            "Epoch 21/50\n",
            "1563/1563 [==============================] - 7s 5ms/step - loss: 0.7529 - accuracy: 0.7368 - val_loss: 0.7280 - val_accuracy: 0.7532\n",
            "Epoch 22/50\n",
            "1563/1563 [==============================] - 7s 5ms/step - loss: 0.7470 - accuracy: 0.7402 - val_loss: 0.7570 - val_accuracy: 0.7421\n",
            "Epoch 23/50\n",
            "1563/1563 [==============================] - 7s 5ms/step - loss: 0.7444 - accuracy: 0.7420 - val_loss: 0.7417 - val_accuracy: 0.7440\n",
            "Epoch 24/50\n",
            "1563/1563 [==============================] - 7s 5ms/step - loss: 0.7361 - accuracy: 0.7430 - val_loss: 0.7293 - val_accuracy: 0.7450\n",
            "Epoch 25/50\n",
            "1563/1563 [==============================] - 7s 5ms/step - loss: 0.7302 - accuracy: 0.7458 - val_loss: 0.7462 - val_accuracy: 0.7426\n",
            "Epoch 26/50\n",
            "1563/1563 [==============================] - 7s 5ms/step - loss: 0.7286 - accuracy: 0.7460 - val_loss: 0.7303 - val_accuracy: 0.7547\n",
            "Epoch 27/50\n",
            "1563/1563 [==============================] - 7s 4ms/step - loss: 0.7216 - accuracy: 0.7451 - val_loss: 0.7766 - val_accuracy: 0.7352\n",
            "Epoch 28/50\n",
            " 443/1563 [=======>......................] - ETA: 4s - loss: 0.7247 - accuracy: 0.7455"
          ],
          "name": "stdout"
        },
        {
          "output_type": "error",
          "ename": "KeyboardInterrupt",
          "evalue": "ignored",
          "traceback": [
            "\u001b[0;31m---------------------------------------------------------------------------\u001b[0m",
            "\u001b[0;31mKeyboardInterrupt\u001b[0m                         Traceback (most recent call last)",
            "\u001b[0;32m<ipython-input-33-5792b0643d15>\u001b[0m in \u001b[0;36m<module>\u001b[0;34m()\u001b[0m\n\u001b[0;32m----> 1\u001b[0;31m \u001b[0mhistory\u001b[0m \u001b[0;34m=\u001b[0m \u001b[0mmodel\u001b[0m\u001b[0;34m.\u001b[0m\u001b[0mfit\u001b[0m\u001b[0;34m(\u001b[0m\u001b[0mX_train\u001b[0m\u001b[0;34m,\u001b[0m \u001b[0my_train\u001b[0m\u001b[0;34m,\u001b[0m \u001b[0mvalidation_data\u001b[0m \u001b[0;34m=\u001b[0m \u001b[0;34m(\u001b[0m\u001b[0mX_test\u001b[0m\u001b[0;34m,\u001b[0m \u001b[0my_test\u001b[0m\u001b[0;34m)\u001b[0m\u001b[0;34m,\u001b[0m \u001b[0mepochs\u001b[0m \u001b[0;34m=\u001b[0m \u001b[0;36m50\u001b[0m\u001b[0;34m,\u001b[0m \u001b[0mbatch_size\u001b[0m \u001b[0;34m=\u001b[0m \u001b[0;36m32\u001b[0m\u001b[0;34m,\u001b[0m \u001b[0mverbose\u001b[0m \u001b[0;34m=\u001b[0m \u001b[0;36m1\u001b[0m\u001b[0;34m)\u001b[0m\u001b[0;34m\u001b[0m\u001b[0;34m\u001b[0m\u001b[0m\n\u001b[0m",
            "\u001b[0;32m/usr/local/lib/python3.7/dist-packages/tensorflow/python/keras/engine/training.py\u001b[0m in \u001b[0;36mfit\u001b[0;34m(self, x, y, batch_size, epochs, verbose, callbacks, validation_split, validation_data, shuffle, class_weight, sample_weight, initial_epoch, steps_per_epoch, validation_steps, validation_batch_size, validation_freq, max_queue_size, workers, use_multiprocessing)\u001b[0m\n\u001b[1;32m   1098\u001b[0m                 _r=1):\n\u001b[1;32m   1099\u001b[0m               \u001b[0mcallbacks\u001b[0m\u001b[0;34m.\u001b[0m\u001b[0mon_train_batch_begin\u001b[0m\u001b[0;34m(\u001b[0m\u001b[0mstep\u001b[0m\u001b[0;34m)\u001b[0m\u001b[0;34m\u001b[0m\u001b[0;34m\u001b[0m\u001b[0m\n\u001b[0;32m-> 1100\u001b[0;31m               \u001b[0mtmp_logs\u001b[0m \u001b[0;34m=\u001b[0m \u001b[0mself\u001b[0m\u001b[0;34m.\u001b[0m\u001b[0mtrain_function\u001b[0m\u001b[0;34m(\u001b[0m\u001b[0miterator\u001b[0m\u001b[0;34m)\u001b[0m\u001b[0;34m\u001b[0m\u001b[0;34m\u001b[0m\u001b[0m\n\u001b[0m\u001b[1;32m   1101\u001b[0m               \u001b[0;32mif\u001b[0m \u001b[0mdata_handler\u001b[0m\u001b[0;34m.\u001b[0m\u001b[0mshould_sync\u001b[0m\u001b[0;34m:\u001b[0m\u001b[0;34m\u001b[0m\u001b[0;34m\u001b[0m\u001b[0m\n\u001b[1;32m   1102\u001b[0m                 \u001b[0mcontext\u001b[0m\u001b[0;34m.\u001b[0m\u001b[0masync_wait\u001b[0m\u001b[0;34m(\u001b[0m\u001b[0;34m)\u001b[0m\u001b[0;34m\u001b[0m\u001b[0;34m\u001b[0m\u001b[0m\n",
            "\u001b[0;32m/usr/local/lib/python3.7/dist-packages/tensorflow/python/eager/def_function.py\u001b[0m in \u001b[0;36m__call__\u001b[0;34m(self, *args, **kwds)\u001b[0m\n\u001b[1;32m    826\u001b[0m     \u001b[0mtracing_count\u001b[0m \u001b[0;34m=\u001b[0m \u001b[0mself\u001b[0m\u001b[0;34m.\u001b[0m\u001b[0mexperimental_get_tracing_count\u001b[0m\u001b[0;34m(\u001b[0m\u001b[0;34m)\u001b[0m\u001b[0;34m\u001b[0m\u001b[0;34m\u001b[0m\u001b[0m\n\u001b[1;32m    827\u001b[0m     \u001b[0;32mwith\u001b[0m \u001b[0mtrace\u001b[0m\u001b[0;34m.\u001b[0m\u001b[0mTrace\u001b[0m\u001b[0;34m(\u001b[0m\u001b[0mself\u001b[0m\u001b[0;34m.\u001b[0m\u001b[0m_name\u001b[0m\u001b[0;34m)\u001b[0m \u001b[0;32mas\u001b[0m \u001b[0mtm\u001b[0m\u001b[0;34m:\u001b[0m\u001b[0;34m\u001b[0m\u001b[0;34m\u001b[0m\u001b[0m\n\u001b[0;32m--> 828\u001b[0;31m       \u001b[0mresult\u001b[0m \u001b[0;34m=\u001b[0m \u001b[0mself\u001b[0m\u001b[0;34m.\u001b[0m\u001b[0m_call\u001b[0m\u001b[0;34m(\u001b[0m\u001b[0;34m*\u001b[0m\u001b[0margs\u001b[0m\u001b[0;34m,\u001b[0m \u001b[0;34m**\u001b[0m\u001b[0mkwds\u001b[0m\u001b[0;34m)\u001b[0m\u001b[0;34m\u001b[0m\u001b[0;34m\u001b[0m\u001b[0m\n\u001b[0m\u001b[1;32m    829\u001b[0m       \u001b[0mcompiler\u001b[0m \u001b[0;34m=\u001b[0m \u001b[0;34m\"xla\"\u001b[0m \u001b[0;32mif\u001b[0m \u001b[0mself\u001b[0m\u001b[0;34m.\u001b[0m\u001b[0m_experimental_compile\u001b[0m \u001b[0;32melse\u001b[0m \u001b[0;34m\"nonXla\"\u001b[0m\u001b[0;34m\u001b[0m\u001b[0;34m\u001b[0m\u001b[0m\n\u001b[1;32m    830\u001b[0m       \u001b[0mnew_tracing_count\u001b[0m \u001b[0;34m=\u001b[0m \u001b[0mself\u001b[0m\u001b[0;34m.\u001b[0m\u001b[0mexperimental_get_tracing_count\u001b[0m\u001b[0;34m(\u001b[0m\u001b[0;34m)\u001b[0m\u001b[0;34m\u001b[0m\u001b[0;34m\u001b[0m\u001b[0m\n",
            "\u001b[0;32m/usr/local/lib/python3.7/dist-packages/tensorflow/python/eager/def_function.py\u001b[0m in \u001b[0;36m_call\u001b[0;34m(self, *args, **kwds)\u001b[0m\n\u001b[1;32m    853\u001b[0m       \u001b[0;31m# In this case we have created variables on the first call, so we run the\u001b[0m\u001b[0;34m\u001b[0m\u001b[0;34m\u001b[0m\u001b[0;34m\u001b[0m\u001b[0m\n\u001b[1;32m    854\u001b[0m       \u001b[0;31m# defunned version which is guaranteed to never create variables.\u001b[0m\u001b[0;34m\u001b[0m\u001b[0;34m\u001b[0m\u001b[0;34m\u001b[0m\u001b[0m\n\u001b[0;32m--> 855\u001b[0;31m       \u001b[0;32mreturn\u001b[0m \u001b[0mself\u001b[0m\u001b[0;34m.\u001b[0m\u001b[0m_stateless_fn\u001b[0m\u001b[0;34m(\u001b[0m\u001b[0;34m*\u001b[0m\u001b[0margs\u001b[0m\u001b[0;34m,\u001b[0m \u001b[0;34m**\u001b[0m\u001b[0mkwds\u001b[0m\u001b[0;34m)\u001b[0m  \u001b[0;31m# pylint: disable=not-callable\u001b[0m\u001b[0;34m\u001b[0m\u001b[0;34m\u001b[0m\u001b[0m\n\u001b[0m\u001b[1;32m    856\u001b[0m     \u001b[0;32melif\u001b[0m \u001b[0mself\u001b[0m\u001b[0;34m.\u001b[0m\u001b[0m_stateful_fn\u001b[0m \u001b[0;32mis\u001b[0m \u001b[0;32mnot\u001b[0m \u001b[0;32mNone\u001b[0m\u001b[0;34m:\u001b[0m\u001b[0;34m\u001b[0m\u001b[0;34m\u001b[0m\u001b[0m\n\u001b[1;32m    857\u001b[0m       \u001b[0;31m# Release the lock early so that multiple threads can perform the call\u001b[0m\u001b[0;34m\u001b[0m\u001b[0;34m\u001b[0m\u001b[0;34m\u001b[0m\u001b[0m\n",
            "\u001b[0;32m/usr/local/lib/python3.7/dist-packages/tensorflow/python/eager/function.py\u001b[0m in \u001b[0;36m__call__\u001b[0;34m(self, *args, **kwargs)\u001b[0m\n\u001b[1;32m   2941\u001b[0m        filtered_flat_args) = self._maybe_define_function(args, kwargs)\n\u001b[1;32m   2942\u001b[0m     return graph_function._call_flat(\n\u001b[0;32m-> 2943\u001b[0;31m         filtered_flat_args, captured_inputs=graph_function.captured_inputs)  # pylint: disable=protected-access\n\u001b[0m\u001b[1;32m   2944\u001b[0m \u001b[0;34m\u001b[0m\u001b[0m\n\u001b[1;32m   2945\u001b[0m   \u001b[0;34m@\u001b[0m\u001b[0mproperty\u001b[0m\u001b[0;34m\u001b[0m\u001b[0;34m\u001b[0m\u001b[0m\n",
            "\u001b[0;32m/usr/local/lib/python3.7/dist-packages/tensorflow/python/eager/function.py\u001b[0m in \u001b[0;36m_call_flat\u001b[0;34m(self, args, captured_inputs, cancellation_manager)\u001b[0m\n\u001b[1;32m   1917\u001b[0m       \u001b[0;31m# No tape is watching; skip to running the function.\u001b[0m\u001b[0;34m\u001b[0m\u001b[0;34m\u001b[0m\u001b[0;34m\u001b[0m\u001b[0m\n\u001b[1;32m   1918\u001b[0m       return self._build_call_outputs(self._inference_function.call(\n\u001b[0;32m-> 1919\u001b[0;31m           ctx, args, cancellation_manager=cancellation_manager))\n\u001b[0m\u001b[1;32m   1920\u001b[0m     forward_backward = self._select_forward_and_backward_functions(\n\u001b[1;32m   1921\u001b[0m         \u001b[0margs\u001b[0m\u001b[0;34m,\u001b[0m\u001b[0;34m\u001b[0m\u001b[0;34m\u001b[0m\u001b[0m\n",
            "\u001b[0;32m/usr/local/lib/python3.7/dist-packages/tensorflow/python/eager/function.py\u001b[0m in \u001b[0;36mcall\u001b[0;34m(self, ctx, args, cancellation_manager)\u001b[0m\n\u001b[1;32m    558\u001b[0m               \u001b[0minputs\u001b[0m\u001b[0;34m=\u001b[0m\u001b[0margs\u001b[0m\u001b[0;34m,\u001b[0m\u001b[0;34m\u001b[0m\u001b[0;34m\u001b[0m\u001b[0m\n\u001b[1;32m    559\u001b[0m               \u001b[0mattrs\u001b[0m\u001b[0;34m=\u001b[0m\u001b[0mattrs\u001b[0m\u001b[0;34m,\u001b[0m\u001b[0;34m\u001b[0m\u001b[0;34m\u001b[0m\u001b[0m\n\u001b[0;32m--> 560\u001b[0;31m               ctx=ctx)\n\u001b[0m\u001b[1;32m    561\u001b[0m         \u001b[0;32melse\u001b[0m\u001b[0;34m:\u001b[0m\u001b[0;34m\u001b[0m\u001b[0;34m\u001b[0m\u001b[0m\n\u001b[1;32m    562\u001b[0m           outputs = execute.execute_with_cancellation(\n",
            "\u001b[0;32m/usr/local/lib/python3.7/dist-packages/tensorflow/python/eager/execute.py\u001b[0m in \u001b[0;36mquick_execute\u001b[0;34m(op_name, num_outputs, inputs, attrs, ctx, name)\u001b[0m\n\u001b[1;32m     58\u001b[0m     \u001b[0mctx\u001b[0m\u001b[0;34m.\u001b[0m\u001b[0mensure_initialized\u001b[0m\u001b[0;34m(\u001b[0m\u001b[0;34m)\u001b[0m\u001b[0;34m\u001b[0m\u001b[0;34m\u001b[0m\u001b[0m\n\u001b[1;32m     59\u001b[0m     tensors = pywrap_tfe.TFE_Py_Execute(ctx._handle, device_name, op_name,\n\u001b[0;32m---> 60\u001b[0;31m                                         inputs, attrs, num_outputs)\n\u001b[0m\u001b[1;32m     61\u001b[0m   \u001b[0;32mexcept\u001b[0m \u001b[0mcore\u001b[0m\u001b[0;34m.\u001b[0m\u001b[0m_NotOkStatusException\u001b[0m \u001b[0;32mas\u001b[0m \u001b[0me\u001b[0m\u001b[0;34m:\u001b[0m\u001b[0;34m\u001b[0m\u001b[0;34m\u001b[0m\u001b[0m\n\u001b[1;32m     62\u001b[0m     \u001b[0;32mif\u001b[0m \u001b[0mname\u001b[0m \u001b[0;32mis\u001b[0m \u001b[0;32mnot\u001b[0m \u001b[0;32mNone\u001b[0m\u001b[0;34m:\u001b[0m\u001b[0;34m\u001b[0m\u001b[0;34m\u001b[0m\u001b[0m\n",
            "\u001b[0;31mKeyboardInterrupt\u001b[0m: "
          ]
        }
      ]
    },
    {
      "cell_type": "markdown",
      "metadata": {
        "id": "wk8ZZVunVj08"
      },
      "source": [
        "## 4. Data augmentation\n",
        "\n",
        "☝️ It seems that adding pictures greatly improves model performance! Welcome to the Deep Learning paradigm, where big data does make a difference.\n",
        "\n",
        "To easily improve the accuracy of a model without much work, we can generate new data: the _data augmentation_. This widely used technique consists in applying little transformation to input images without changing its label, as mirroring, cropping, intensity changes, etc. The improved performance simply results from the Neural network training with more different data.\n",
        "\n",
        "The natural way to generate these new images is to apply some transformations and train the model on the original and new images. However, such procedure requires to keep all these images in memory : it can be very intensive, to the point that your computer memory cannot hold any new image (your computer might even crash).\n",
        "\n",
        "For this reason, we will augment the data **on the fly** (batch per batch), meaning that we will create new data, use them to fit the model, then delete them. Here, Keras is our friend as it provides the utils to do all this job for us. Look at the following code : the general writing can seem odd but don't be panicked: just look at the function arguments that defines the augmentation techniques that we will use and that you can check in the  [documentation](https://www.tensorflow.org/api_docs/python/tf/keras/preprocessing/image/ImageDataGenerator)."
      ]
    },
    {
      "cell_type": "code",
      "metadata": {
        "ExecuteTime": {
          "end_time": "2021-04-28T17:30:44.981000Z",
          "start_time": "2021-04-28T17:30:43.704837Z"
        },
        "id": "DlOpbos5Vj09",
        "scrolled": false
      },
      "source": [
        "from tensorflow.keras.preprocessing.image import ImageDataGenerator\n",
        "\n",
        "datagen = ImageDataGenerator(\n",
        "    featurewise_center=False,\n",
        "    featurewise_std_normalization=False,\n",
        "    rotation_range=10,\n",
        "    width_shift_range=0.1,\n",
        "    height_shift_range=0.1,\n",
        "    horizontal_flip=True,\n",
        "    zoom_range=(0.8, 1.2),\n",
        "    ) \n",
        "\n",
        "datagen.fit(X_train)\n",
        "datagen"
      ],
      "execution_count": null,
      "outputs": []
    },
    {
      "cell_type": "code",
      "metadata": {
        "ExecuteTime": {
          "end_time": "2021-04-28T17:30:45.856304Z",
          "start_time": "2021-04-28T17:30:45.471890Z"
        },
        "id": "Zcl17dW1aA0G"
      },
      "source": [
        "X_augmented_iterator = datagen.flow(X_train, shuffle=False, batch_size=1)\n",
        "X_augmented_iterator"
      ],
      "execution_count": null,
      "outputs": []
    },
    {
      "cell_type": "markdown",
      "metadata": {
        "id": "RdMqg8grVj09"
      },
      "source": [
        "💡 Always visualize your data augmentation in order to double check that you can still recognize the label yourself!"
      ]
    },
    {
      "cell_type": "code",
      "metadata": {
        "id": "IsqMF0adVj09",
        "scrolled": true
      },
      "source": [
        "import numpy as np\n",
        "\n",
        "for i, (raw_image, augmented_image) in enumerate(zip(X_train, X_augmented_iterator)):\n",
        "    _, (ax1, ax2) = plt.subplots(1, 2, figsize=(6, 2))\n",
        "    ax1.imshow(raw_image)\n",
        "    ax2.imshow(augmented_image[0])\n",
        "    plt.show()\n",
        "    \n",
        "    if i > 10:\n",
        "        break"
      ],
      "execution_count": null,
      "outputs": []
    },
    {
      "cell_type": "markdown",
      "metadata": {
        "id": "LyLlJQrKVj09"
      },
      "source": [
        "❗ **Remark** ❗ In this example, there is one augmented image per initial image. In fact, when your model will use `datagen.flow` in the `fit`, it will create one augmentation per epochs! Indeed, the images in the original dataset will not be provided to the optimizer, only augmented ones instead. (But because the augmentations are performed randomly, this allows both modified images and some very close of the originals).\n",
        "\n",
        "❓ **Question** ❓ Take time to understand the cell below: Previously, we used the `validation_split` argument to let the model separate a training set from the validation one. It is not possible here as **using an image in the training set and its transformation in the validation set is considered as a data leakage**. Therefore, we have to manually define the `validation_data` with the following commands:\n"
      ]
    },
    {
      "cell_type": "code",
      "metadata": {
        "id": "lYOkY7LOVj09"
      },
      "source": [
        "from tensorflow.keras.callbacks import EarlyStopping\n",
        "\n",
        "# The model\n",
        "model_aug = initialize_model()\n",
        "model_aug = compile_model(model_aug)\n",
        "\n",
        "# The data generator\n",
        "X_tr = X_train[:40000]\n",
        "y_tr = y_train[:40000]\n",
        "X_val = X_train[40000:]\n",
        "y_val = y_train[40000:]\n",
        "train_flow = datagen.flow(X_tr, y_tr, batch_size=64)\n",
        "\n",
        "# The early stopping criterion\n",
        "es = EarlyStopping(patience=3)\n",
        "\n",
        "# The fit\n",
        "history_aug = model_aug.fit(train_flow, \n",
        "                        epochs=50, \n",
        "                        callbacks=[es], \n",
        "                        validation_data=(X_val, y_val))\n"
      ],
      "execution_count": null,
      "outputs": []
    },
    {
      "cell_type": "markdown",
      "metadata": {
        "id": "NmQ9t_cMVj0-"
      },
      "source": [
        "❗️❗️ Remark ❗️❗️: The training can be quite long here. Don't hesitate to go to the next exercise and gome back once in a while to finish the last questions\n",
        "\n",
        "❓ **Question** ❓ Now, let's plot the previous and current run histories. What do you think of the data augmentation?\n"
      ]
    },
    {
      "cell_type": "code",
      "metadata": {
        "id": "o9r4Fau2Vj0-",
        "tags": [
          "challengify"
        ]
      },
      "source": [
        "# YOUR CODE HERE"
      ],
      "execution_count": 25,
      "outputs": []
    },
    {
      "cell_type": "markdown",
      "metadata": {
        "id": "Jm055RyNVj0-"
      },
      "source": [
        "💡 Data augmentation may not improve your performance easily. It strongly depends on the model architecture you used, the learning rate, the type of augmentation chosen, etc...Image classification is an art that takes lots of practice to master!\n",
        "\n",
        "🚨 **Don't spend too much time now trying to finetune your model - you have other interesting challenge ahead**. \n",
        "\n",
        "📚 [here is a good example of solution for future reference](https://machinelearningmastery.com/how-to-develop-a-cnn-from-scratch-for-cifar-10-photo-classification/). They manage to get about 80% accuracy"
      ]
    },
    {
      "cell_type": "markdown",
      "metadata": {
        "id": "Oy4DCYLGVj0-"
      },
      "source": [
        "### 🏁 Congratulation 🏁 \n",
        "Copy this notebook from your google drive into your local data-challenge repo, and commit+push your progress on github. To find where this Colab notebook has been save, click on `File --> Locate in Drive`."
      ]
    },
    {
      "cell_type": "code",
      "metadata": {
        "id": "fkYuyP0_vdl2"
      },
      "source": [
        ""
      ],
      "execution_count": 25,
      "outputs": []
    }
  ]
}